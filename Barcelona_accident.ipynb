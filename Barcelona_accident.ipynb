{
  "nbformat": 4,
  "nbformat_minor": 0,
  "metadata": {
    "colab": {
      "name": "Barcelona_accident.ipynb",
      "provenance": [],
      "collapsed_sections": [],
      "authorship_tag": "ABX9TyNPEeM8t6xv5FrJZw7aWTyS",
      "include_colab_link": true
    },
    "kernelspec": {
      "name": "python3",
      "display_name": "Python 3"
    },
    "language_info": {
      "name": "python"
    }
  },
  "cells": [
    {
      "cell_type": "markdown",
      "metadata": {
        "id": "view-in-github",
        "colab_type": "text"
      },
      "source": [
        "<a href=\"https://colab.research.google.com/github/abhi-11nav/Barcleona-accidents/blob/main/Barcelona_accident.ipynb\" target=\"_parent\"><img src=\"https://colab.research.google.com/assets/colab-badge.svg\" alt=\"Open In Colab\"/></a>"
      ]
    },
    {
      "cell_type": "code",
      "execution_count": null,
      "metadata": {
        "id": "1XG7L92md28w"
      },
      "outputs": [],
      "source": [
        "import numpy as np \n",
        "import pandas as pd"
      ]
    },
    {
      "cell_type": "markdown",
      "source": [
        "# Dataset credits \n",
        "\n",
        "https://www.kaggle.com/datasets/emmanuelfwerr/barcelona-car-accidents"
      ],
      "metadata": {
        "id": "SIhyKKAReZGD"
      }
    },
    {
      "cell_type": "code",
      "source": [
        "url = \"https://raw.githubusercontent.com/abhi-11nav/Barcleona-accidents/main/accidents_opendata.csv\""
      ],
      "metadata": {
        "id": "bso9rAKdebd3"
      },
      "execution_count": null,
      "outputs": []
    },
    {
      "cell_type": "code",
      "source": [
        "dataset = pd.read_csv(url)"
      ],
      "metadata": {
        "colab": {
          "base_uri": "https://localhost:8080/"
        },
        "id": "0vcfq3oMfr7D",
        "outputId": "18862372-6b0b-4dbe-a1ac-c02b72bc71fe"
      },
      "execution_count": null,
      "outputs": [
        {
          "output_type": "stream",
          "name": "stderr",
          "text": [
            "/usr/local/lib/python3.7/dist-packages/IPython/core/interactiveshell.py:2882: DtypeWarning: Columns (3) have mixed types.Specify dtype option on import or set low_memory=False.\n",
            "  exec(code_obj, self.user_global_ns, self.user_ns)\n"
          ]
        }
      ]
    },
    {
      "cell_type": "code",
      "source": [
        "dataset.head()"
      ],
      "metadata": {
        "colab": {
          "base_uri": "https://localhost:8080/",
          "height": 382
        },
        "id": "losHCSflfubD",
        "outputId": "dbcf5323-069f-42d0-8b15-57473662d78c"
      },
      "execution_count": null,
      "outputs": [
        {
          "output_type": "execute_result",
          "data": {
            "text/plain": [
              "       case_id  district_id district_name neighborhood_id  \\\n",
              "0  2015S005807         -1.0    Desconegut            -1.0   \n",
              "1  2015S007685         10.0    Sant Martí            64.0   \n",
              "2  2015S001364         10.0    Sant Martí            64.0   \n",
              "3  2015S004325         10.0    Sant Martí            64.0   \n",
              "4  2015S005540         10.0    Sant Martí            64.0   \n",
              "\n",
              "            neighborhood_name  street_code          street_name postal_code  \\\n",
              "0                  Desconegut         -1.0           Desconegut  Desconegut   \n",
              "1  el Camp de l'Arpa del Clot     134801.0               Freser   0208 0208   \n",
              "2  el Camp de l'Arpa del Clot     161407.0            Indústria   0336 0336   \n",
              "3  el Camp de l'Arpa del Clot     226400.0  Las Navas de Tolosa   0343 0343   \n",
              "4  el Camp de l'Arpa del Clot      95506.0                Conca   0032 0034   \n",
              "\n",
              "  weekday_name weekday  ...                  cause_incident  n_deaths  \\\n",
              "0      Dimarts      Dm  ...        No és causa del  vianant       0.0   \n",
              "1      Dimarts      Dm  ...  Desobeir el senyal del semàfor       0.0   \n",
              "2     Dissabte      Ds  ...        No és causa del  vianant       0.0   \n",
              "3    Divendres      Dv  ...        No és causa del  vianant       0.0   \n",
              "4    Divendres      Dv  ...        No és causa del  vianant       0.0   \n",
              "\n",
              "   n_wounded_mild n_wounded_severe  n_victims  n_vehicles utm_coordinate_y  \\\n",
              "0             2.0              0.0        2.0         2.0               -1   \n",
              "1             1.0              0.0        1.0         1.0       4585420,58   \n",
              "2             1.0              0.0        1.0         1.0       4585555,86   \n",
              "3             1.0              0.0        1.0         2.0       4585565,44   \n",
              "4             2.0              0.0        2.0         1.0       4585260,16   \n",
              "\n",
              "  utm_coordinate_x  longitude  latitude  \n",
              "0               -1        NaN       NaN  \n",
              "1        431779,16        NaN       NaN  \n",
              "2        431913,65        NaN       NaN  \n",
              "3        431946,45        NaN       NaN  \n",
              "4        431530,84        NaN       NaN  \n",
              "\n",
              "[5 rows x 27 columns]"
            ],
            "text/html": [
              "\n",
              "  <div id=\"df-cdf7ea98-6b33-4c80-ac4f-e6ed5bbd98ba\">\n",
              "    <div class=\"colab-df-container\">\n",
              "      <div>\n",
              "<style scoped>\n",
              "    .dataframe tbody tr th:only-of-type {\n",
              "        vertical-align: middle;\n",
              "    }\n",
              "\n",
              "    .dataframe tbody tr th {\n",
              "        vertical-align: top;\n",
              "    }\n",
              "\n",
              "    .dataframe thead th {\n",
              "        text-align: right;\n",
              "    }\n",
              "</style>\n",
              "<table border=\"1\" class=\"dataframe\">\n",
              "  <thead>\n",
              "    <tr style=\"text-align: right;\">\n",
              "      <th></th>\n",
              "      <th>case_id</th>\n",
              "      <th>district_id</th>\n",
              "      <th>district_name</th>\n",
              "      <th>neighborhood_id</th>\n",
              "      <th>neighborhood_name</th>\n",
              "      <th>street_code</th>\n",
              "      <th>street_name</th>\n",
              "      <th>postal_code</th>\n",
              "      <th>weekday_name</th>\n",
              "      <th>weekday</th>\n",
              "      <th>...</th>\n",
              "      <th>cause_incident</th>\n",
              "      <th>n_deaths</th>\n",
              "      <th>n_wounded_mild</th>\n",
              "      <th>n_wounded_severe</th>\n",
              "      <th>n_victims</th>\n",
              "      <th>n_vehicles</th>\n",
              "      <th>utm_coordinate_y</th>\n",
              "      <th>utm_coordinate_x</th>\n",
              "      <th>longitude</th>\n",
              "      <th>latitude</th>\n",
              "    </tr>\n",
              "  </thead>\n",
              "  <tbody>\n",
              "    <tr>\n",
              "      <th>0</th>\n",
              "      <td>2015S005807</td>\n",
              "      <td>-1.0</td>\n",
              "      <td>Desconegut</td>\n",
              "      <td>-1.0</td>\n",
              "      <td>Desconegut</td>\n",
              "      <td>-1.0</td>\n",
              "      <td>Desconegut</td>\n",
              "      <td>Desconegut</td>\n",
              "      <td>Dimarts</td>\n",
              "      <td>Dm</td>\n",
              "      <td>...</td>\n",
              "      <td>No és causa del  vianant</td>\n",
              "      <td>0.0</td>\n",
              "      <td>2.0</td>\n",
              "      <td>0.0</td>\n",
              "      <td>2.0</td>\n",
              "      <td>2.0</td>\n",
              "      <td>-1</td>\n",
              "      <td>-1</td>\n",
              "      <td>NaN</td>\n",
              "      <td>NaN</td>\n",
              "    </tr>\n",
              "    <tr>\n",
              "      <th>1</th>\n",
              "      <td>2015S007685</td>\n",
              "      <td>10.0</td>\n",
              "      <td>Sant Martí</td>\n",
              "      <td>64.0</td>\n",
              "      <td>el Camp de l'Arpa del Clot</td>\n",
              "      <td>134801.0</td>\n",
              "      <td>Freser</td>\n",
              "      <td>0208 0208</td>\n",
              "      <td>Dimarts</td>\n",
              "      <td>Dm</td>\n",
              "      <td>...</td>\n",
              "      <td>Desobeir el senyal del semàfor</td>\n",
              "      <td>0.0</td>\n",
              "      <td>1.0</td>\n",
              "      <td>0.0</td>\n",
              "      <td>1.0</td>\n",
              "      <td>1.0</td>\n",
              "      <td>4585420,58</td>\n",
              "      <td>431779,16</td>\n",
              "      <td>NaN</td>\n",
              "      <td>NaN</td>\n",
              "    </tr>\n",
              "    <tr>\n",
              "      <th>2</th>\n",
              "      <td>2015S001364</td>\n",
              "      <td>10.0</td>\n",
              "      <td>Sant Martí</td>\n",
              "      <td>64.0</td>\n",
              "      <td>el Camp de l'Arpa del Clot</td>\n",
              "      <td>161407.0</td>\n",
              "      <td>Indústria</td>\n",
              "      <td>0336 0336</td>\n",
              "      <td>Dissabte</td>\n",
              "      <td>Ds</td>\n",
              "      <td>...</td>\n",
              "      <td>No és causa del  vianant</td>\n",
              "      <td>0.0</td>\n",
              "      <td>1.0</td>\n",
              "      <td>0.0</td>\n",
              "      <td>1.0</td>\n",
              "      <td>1.0</td>\n",
              "      <td>4585555,86</td>\n",
              "      <td>431913,65</td>\n",
              "      <td>NaN</td>\n",
              "      <td>NaN</td>\n",
              "    </tr>\n",
              "    <tr>\n",
              "      <th>3</th>\n",
              "      <td>2015S004325</td>\n",
              "      <td>10.0</td>\n",
              "      <td>Sant Martí</td>\n",
              "      <td>64.0</td>\n",
              "      <td>el Camp de l'Arpa del Clot</td>\n",
              "      <td>226400.0</td>\n",
              "      <td>Las Navas de Tolosa</td>\n",
              "      <td>0343 0343</td>\n",
              "      <td>Divendres</td>\n",
              "      <td>Dv</td>\n",
              "      <td>...</td>\n",
              "      <td>No és causa del  vianant</td>\n",
              "      <td>0.0</td>\n",
              "      <td>1.0</td>\n",
              "      <td>0.0</td>\n",
              "      <td>1.0</td>\n",
              "      <td>2.0</td>\n",
              "      <td>4585565,44</td>\n",
              "      <td>431946,45</td>\n",
              "      <td>NaN</td>\n",
              "      <td>NaN</td>\n",
              "    </tr>\n",
              "    <tr>\n",
              "      <th>4</th>\n",
              "      <td>2015S005540</td>\n",
              "      <td>10.0</td>\n",
              "      <td>Sant Martí</td>\n",
              "      <td>64.0</td>\n",
              "      <td>el Camp de l'Arpa del Clot</td>\n",
              "      <td>95506.0</td>\n",
              "      <td>Conca</td>\n",
              "      <td>0032 0034</td>\n",
              "      <td>Divendres</td>\n",
              "      <td>Dv</td>\n",
              "      <td>...</td>\n",
              "      <td>No és causa del  vianant</td>\n",
              "      <td>0.0</td>\n",
              "      <td>2.0</td>\n",
              "      <td>0.0</td>\n",
              "      <td>2.0</td>\n",
              "      <td>1.0</td>\n",
              "      <td>4585260,16</td>\n",
              "      <td>431530,84</td>\n",
              "      <td>NaN</td>\n",
              "      <td>NaN</td>\n",
              "    </tr>\n",
              "  </tbody>\n",
              "</table>\n",
              "<p>5 rows × 27 columns</p>\n",
              "</div>\n",
              "      <button class=\"colab-df-convert\" onclick=\"convertToInteractive('df-cdf7ea98-6b33-4c80-ac4f-e6ed5bbd98ba')\"\n",
              "              title=\"Convert this dataframe to an interactive table.\"\n",
              "              style=\"display:none;\">\n",
              "        \n",
              "  <svg xmlns=\"http://www.w3.org/2000/svg\" height=\"24px\"viewBox=\"0 0 24 24\"\n",
              "       width=\"24px\">\n",
              "    <path d=\"M0 0h24v24H0V0z\" fill=\"none\"/>\n",
              "    <path d=\"M18.56 5.44l.94 2.06.94-2.06 2.06-.94-2.06-.94-.94-2.06-.94 2.06-2.06.94zm-11 1L8.5 8.5l.94-2.06 2.06-.94-2.06-.94L8.5 2.5l-.94 2.06-2.06.94zm10 10l.94 2.06.94-2.06 2.06-.94-2.06-.94-.94-2.06-.94 2.06-2.06.94z\"/><path d=\"M17.41 7.96l-1.37-1.37c-.4-.4-.92-.59-1.43-.59-.52 0-1.04.2-1.43.59L10.3 9.45l-7.72 7.72c-.78.78-.78 2.05 0 2.83L4 21.41c.39.39.9.59 1.41.59.51 0 1.02-.2 1.41-.59l7.78-7.78 2.81-2.81c.8-.78.8-2.07 0-2.86zM5.41 20L4 18.59l7.72-7.72 1.47 1.35L5.41 20z\"/>\n",
              "  </svg>\n",
              "      </button>\n",
              "      \n",
              "  <style>\n",
              "    .colab-df-container {\n",
              "      display:flex;\n",
              "      flex-wrap:wrap;\n",
              "      gap: 12px;\n",
              "    }\n",
              "\n",
              "    .colab-df-convert {\n",
              "      background-color: #E8F0FE;\n",
              "      border: none;\n",
              "      border-radius: 50%;\n",
              "      cursor: pointer;\n",
              "      display: none;\n",
              "      fill: #1967D2;\n",
              "      height: 32px;\n",
              "      padding: 0 0 0 0;\n",
              "      width: 32px;\n",
              "    }\n",
              "\n",
              "    .colab-df-convert:hover {\n",
              "      background-color: #E2EBFA;\n",
              "      box-shadow: 0px 1px 2px rgba(60, 64, 67, 0.3), 0px 1px 3px 1px rgba(60, 64, 67, 0.15);\n",
              "      fill: #174EA6;\n",
              "    }\n",
              "\n",
              "    [theme=dark] .colab-df-convert {\n",
              "      background-color: #3B4455;\n",
              "      fill: #D2E3FC;\n",
              "    }\n",
              "\n",
              "    [theme=dark] .colab-df-convert:hover {\n",
              "      background-color: #434B5C;\n",
              "      box-shadow: 0px 1px 3px 1px rgba(0, 0, 0, 0.15);\n",
              "      filter: drop-shadow(0px 1px 2px rgba(0, 0, 0, 0.3));\n",
              "      fill: #FFFFFF;\n",
              "    }\n",
              "  </style>\n",
              "\n",
              "      <script>\n",
              "        const buttonEl =\n",
              "          document.querySelector('#df-cdf7ea98-6b33-4c80-ac4f-e6ed5bbd98ba button.colab-df-convert');\n",
              "        buttonEl.style.display =\n",
              "          google.colab.kernel.accessAllowed ? 'block' : 'none';\n",
              "\n",
              "        async function convertToInteractive(key) {\n",
              "          const element = document.querySelector('#df-cdf7ea98-6b33-4c80-ac4f-e6ed5bbd98ba');\n",
              "          const dataTable =\n",
              "            await google.colab.kernel.invokeFunction('convertToInteractive',\n",
              "                                                     [key], {});\n",
              "          if (!dataTable) return;\n",
              "\n",
              "          const docLinkHtml = 'Like what you see? Visit the ' +\n",
              "            '<a target=\"_blank\" href=https://colab.research.google.com/notebooks/data_table.ipynb>data table notebook</a>'\n",
              "            + ' to learn more about interactive tables.';\n",
              "          element.innerHTML = '';\n",
              "          dataTable['output_type'] = 'display_data';\n",
              "          await google.colab.output.renderOutput(dataTable, element);\n",
              "          const docLink = document.createElement('div');\n",
              "          docLink.innerHTML = docLinkHtml;\n",
              "          element.appendChild(docLink);\n",
              "        }\n",
              "      </script>\n",
              "    </div>\n",
              "  </div>\n",
              "  "
            ]
          },
          "metadata": {},
          "execution_count": 6
        }
      ]
    },
    {
      "cell_type": "code",
      "source": [
        "dataset.columns"
      ],
      "metadata": {
        "id": "owCfWE63hk40",
        "colab": {
          "base_uri": "https://localhost:8080/"
        },
        "outputId": "e066fc22-48d7-4bbf-d737-6e41bd46c7e2"
      },
      "execution_count": 8,
      "outputs": [
        {
          "output_type": "execute_result",
          "data": {
            "text/plain": [
              "Index(['case_id', 'district_id', 'district_name', 'neighborhood_id',\n",
              "       'neighborhood_name', 'street_code', 'street_name', 'postal_code',\n",
              "       'weekday_name', 'weekday', 'type_day', 'year', 'month', 'month_name',\n",
              "       'day', 'hour', 'cyrcadian', 'cause_incident', 'n_deaths',\n",
              "       'n_wounded_mild', 'n_wounded_severe', 'n_victims', 'n_vehicles',\n",
              "       'utm_coordinate_y', 'utm_coordinate_x', 'longitude', 'latitude'],\n",
              "      dtype='object')"
            ]
          },
          "metadata": {},
          "execution_count": 8
        }
      ]
    },
    {
      "cell_type": "code",
      "source": [
        ""
      ],
      "metadata": {
        "id": "ZFXovHw8hseF"
      },
      "execution_count": 9,
      "outputs": []
    },
    {
      "cell_type": "code",
      "source": [
        ""
      ],
      "metadata": {
        "id": "a6yfysMziaDk"
      },
      "execution_count": null,
      "outputs": []
    }
  ]
}