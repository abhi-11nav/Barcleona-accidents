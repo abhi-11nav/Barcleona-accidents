{
  "nbformat": 4,
  "nbformat_minor": 0,
  "metadata": {
    "colab": {
      "name": "Barcleona_accidents_anlaysis.ipynb",
      "provenance": [],
      "collapsed_sections": [],
      "authorship_tag": "ABX9TyOCDN19VfiJo/1TVIKuIPYR",
      "include_colab_link": true
    },
    "kernelspec": {
      "name": "python3",
      "display_name": "Python 3"
    },
    "language_info": {
      "name": "python"
    }
  },
  "cells": [
    {
      "cell_type": "markdown",
      "metadata": {
        "id": "view-in-github",
        "colab_type": "text"
      },
      "source": [
        "<a href=\"https://colab.research.google.com/github/abhi-11nav/Barcleona-accidents/blob/main/Barcleona_accidents_anlaysis.ipynb\" target=\"_parent\"><img src=\"https://colab.research.google.com/assets/colab-badge.svg\" alt=\"Open In Colab\"/></a>"
      ]
    },
    {
      "cell_type": "code",
      "execution_count": 80,
      "metadata": {
        "id": "1XG7L92md28w"
      },
      "outputs": [],
      "source": [
        "import numpy as np \n",
        "import pandas as pd"
      ]
    },
    {
      "cell_type": "markdown",
      "source": [
        "# Dataset credits \n",
        "\n",
        "https://www.kaggle.com/datasets/emmanuelfwerr/barcelona-car-accidents"
      ],
      "metadata": {
        "id": "SIhyKKAReZGD"
      }
    },
    {
      "cell_type": "code",
      "source": [
        "url = \"https://raw.githubusercontent.com/abhi-11nav/Barcleona-accidents/main/accidents_opendata.csv\""
      ],
      "metadata": {
        "id": "bso9rAKdebd3"
      },
      "execution_count": 50,
      "outputs": []
    },
    {
      "cell_type": "code",
      "source": [
        "dataset = pd.read_csv(url)"
      ],
      "metadata": {
        "colab": {
          "base_uri": "https://localhost:8080/"
        },
        "id": "0vcfq3oMfr7D",
        "outputId": "093031e3-0e87-4b02-d6e8-ca66f789a1d5"
      },
      "execution_count": 51,
      "outputs": [
        {
          "output_type": "stream",
          "name": "stderr",
          "text": [
            "/usr/local/lib/python3.7/dist-packages/IPython/core/interactiveshell.py:2882: DtypeWarning: Columns (3) have mixed types.Specify dtype option on import or set low_memory=False.\n",
            "  exec(code_obj, self.user_global_ns, self.user_ns)\n"
          ]
        }
      ]
    },
    {
      "cell_type": "code",
      "source": [
        "dataset.head()"
      ],
      "metadata": {
        "colab": {
          "base_uri": "https://localhost:8080/",
          "height": 382
        },
        "id": "losHCSflfubD",
        "outputId": "4e99508b-d4cf-4c02-db48-dc40d613c942"
      },
      "execution_count": 52,
      "outputs": [
        {
          "output_type": "execute_result",
          "data": {
            "text/plain": [
              "       case_id  district_id district_name neighborhood_id  \\\n",
              "0  2015S005807         -1.0    Desconegut            -1.0   \n",
              "1  2015S007685         10.0    Sant Martí            64.0   \n",
              "2  2015S001364         10.0    Sant Martí            64.0   \n",
              "3  2015S004325         10.0    Sant Martí            64.0   \n",
              "4  2015S005540         10.0    Sant Martí            64.0   \n",
              "\n",
              "            neighborhood_name  street_code          street_name postal_code  \\\n",
              "0                  Desconegut         -1.0           Desconegut  Desconegut   \n",
              "1  el Camp de l'Arpa del Clot     134801.0               Freser   0208 0208   \n",
              "2  el Camp de l'Arpa del Clot     161407.0            Indústria   0336 0336   \n",
              "3  el Camp de l'Arpa del Clot     226400.0  Las Navas de Tolosa   0343 0343   \n",
              "4  el Camp de l'Arpa del Clot      95506.0                Conca   0032 0034   \n",
              "\n",
              "  weekday_name weekday  ...                  cause_incident  n_deaths  \\\n",
              "0      Dimarts      Dm  ...        No és causa del  vianant       0.0   \n",
              "1      Dimarts      Dm  ...  Desobeir el senyal del semàfor       0.0   \n",
              "2     Dissabte      Ds  ...        No és causa del  vianant       0.0   \n",
              "3    Divendres      Dv  ...        No és causa del  vianant       0.0   \n",
              "4    Divendres      Dv  ...        No és causa del  vianant       0.0   \n",
              "\n",
              "   n_wounded_mild n_wounded_severe  n_victims  n_vehicles utm_coordinate_y  \\\n",
              "0             2.0              0.0        2.0         2.0               -1   \n",
              "1             1.0              0.0        1.0         1.0       4585420,58   \n",
              "2             1.0              0.0        1.0         1.0       4585555,86   \n",
              "3             1.0              0.0        1.0         2.0       4585565,44   \n",
              "4             2.0              0.0        2.0         1.0       4585260,16   \n",
              "\n",
              "  utm_coordinate_x  longitude  latitude  \n",
              "0               -1        NaN       NaN  \n",
              "1        431779,16        NaN       NaN  \n",
              "2        431913,65        NaN       NaN  \n",
              "3        431946,45        NaN       NaN  \n",
              "4        431530,84        NaN       NaN  \n",
              "\n",
              "[5 rows x 27 columns]"
            ],
            "text/html": [
              "\n",
              "  <div id=\"df-5d1cf3fc-a6c0-41a9-a6ac-d6b2ee8d842e\">\n",
              "    <div class=\"colab-df-container\">\n",
              "      <div>\n",
              "<style scoped>\n",
              "    .dataframe tbody tr th:only-of-type {\n",
              "        vertical-align: middle;\n",
              "    }\n",
              "\n",
              "    .dataframe tbody tr th {\n",
              "        vertical-align: top;\n",
              "    }\n",
              "\n",
              "    .dataframe thead th {\n",
              "        text-align: right;\n",
              "    }\n",
              "</style>\n",
              "<table border=\"1\" class=\"dataframe\">\n",
              "  <thead>\n",
              "    <tr style=\"text-align: right;\">\n",
              "      <th></th>\n",
              "      <th>case_id</th>\n",
              "      <th>district_id</th>\n",
              "      <th>district_name</th>\n",
              "      <th>neighborhood_id</th>\n",
              "      <th>neighborhood_name</th>\n",
              "      <th>street_code</th>\n",
              "      <th>street_name</th>\n",
              "      <th>postal_code</th>\n",
              "      <th>weekday_name</th>\n",
              "      <th>weekday</th>\n",
              "      <th>...</th>\n",
              "      <th>cause_incident</th>\n",
              "      <th>n_deaths</th>\n",
              "      <th>n_wounded_mild</th>\n",
              "      <th>n_wounded_severe</th>\n",
              "      <th>n_victims</th>\n",
              "      <th>n_vehicles</th>\n",
              "      <th>utm_coordinate_y</th>\n",
              "      <th>utm_coordinate_x</th>\n",
              "      <th>longitude</th>\n",
              "      <th>latitude</th>\n",
              "    </tr>\n",
              "  </thead>\n",
              "  <tbody>\n",
              "    <tr>\n",
              "      <th>0</th>\n",
              "      <td>2015S005807</td>\n",
              "      <td>-1.0</td>\n",
              "      <td>Desconegut</td>\n",
              "      <td>-1.0</td>\n",
              "      <td>Desconegut</td>\n",
              "      <td>-1.0</td>\n",
              "      <td>Desconegut</td>\n",
              "      <td>Desconegut</td>\n",
              "      <td>Dimarts</td>\n",
              "      <td>Dm</td>\n",
              "      <td>...</td>\n",
              "      <td>No és causa del  vianant</td>\n",
              "      <td>0.0</td>\n",
              "      <td>2.0</td>\n",
              "      <td>0.0</td>\n",
              "      <td>2.0</td>\n",
              "      <td>2.0</td>\n",
              "      <td>-1</td>\n",
              "      <td>-1</td>\n",
              "      <td>NaN</td>\n",
              "      <td>NaN</td>\n",
              "    </tr>\n",
              "    <tr>\n",
              "      <th>1</th>\n",
              "      <td>2015S007685</td>\n",
              "      <td>10.0</td>\n",
              "      <td>Sant Martí</td>\n",
              "      <td>64.0</td>\n",
              "      <td>el Camp de l'Arpa del Clot</td>\n",
              "      <td>134801.0</td>\n",
              "      <td>Freser</td>\n",
              "      <td>0208 0208</td>\n",
              "      <td>Dimarts</td>\n",
              "      <td>Dm</td>\n",
              "      <td>...</td>\n",
              "      <td>Desobeir el senyal del semàfor</td>\n",
              "      <td>0.0</td>\n",
              "      <td>1.0</td>\n",
              "      <td>0.0</td>\n",
              "      <td>1.0</td>\n",
              "      <td>1.0</td>\n",
              "      <td>4585420,58</td>\n",
              "      <td>431779,16</td>\n",
              "      <td>NaN</td>\n",
              "      <td>NaN</td>\n",
              "    </tr>\n",
              "    <tr>\n",
              "      <th>2</th>\n",
              "      <td>2015S001364</td>\n",
              "      <td>10.0</td>\n",
              "      <td>Sant Martí</td>\n",
              "      <td>64.0</td>\n",
              "      <td>el Camp de l'Arpa del Clot</td>\n",
              "      <td>161407.0</td>\n",
              "      <td>Indústria</td>\n",
              "      <td>0336 0336</td>\n",
              "      <td>Dissabte</td>\n",
              "      <td>Ds</td>\n",
              "      <td>...</td>\n",
              "      <td>No és causa del  vianant</td>\n",
              "      <td>0.0</td>\n",
              "      <td>1.0</td>\n",
              "      <td>0.0</td>\n",
              "      <td>1.0</td>\n",
              "      <td>1.0</td>\n",
              "      <td>4585555,86</td>\n",
              "      <td>431913,65</td>\n",
              "      <td>NaN</td>\n",
              "      <td>NaN</td>\n",
              "    </tr>\n",
              "    <tr>\n",
              "      <th>3</th>\n",
              "      <td>2015S004325</td>\n",
              "      <td>10.0</td>\n",
              "      <td>Sant Martí</td>\n",
              "      <td>64.0</td>\n",
              "      <td>el Camp de l'Arpa del Clot</td>\n",
              "      <td>226400.0</td>\n",
              "      <td>Las Navas de Tolosa</td>\n",
              "      <td>0343 0343</td>\n",
              "      <td>Divendres</td>\n",
              "      <td>Dv</td>\n",
              "      <td>...</td>\n",
              "      <td>No és causa del  vianant</td>\n",
              "      <td>0.0</td>\n",
              "      <td>1.0</td>\n",
              "      <td>0.0</td>\n",
              "      <td>1.0</td>\n",
              "      <td>2.0</td>\n",
              "      <td>4585565,44</td>\n",
              "      <td>431946,45</td>\n",
              "      <td>NaN</td>\n",
              "      <td>NaN</td>\n",
              "    </tr>\n",
              "    <tr>\n",
              "      <th>4</th>\n",
              "      <td>2015S005540</td>\n",
              "      <td>10.0</td>\n",
              "      <td>Sant Martí</td>\n",
              "      <td>64.0</td>\n",
              "      <td>el Camp de l'Arpa del Clot</td>\n",
              "      <td>95506.0</td>\n",
              "      <td>Conca</td>\n",
              "      <td>0032 0034</td>\n",
              "      <td>Divendres</td>\n",
              "      <td>Dv</td>\n",
              "      <td>...</td>\n",
              "      <td>No és causa del  vianant</td>\n",
              "      <td>0.0</td>\n",
              "      <td>2.0</td>\n",
              "      <td>0.0</td>\n",
              "      <td>2.0</td>\n",
              "      <td>1.0</td>\n",
              "      <td>4585260,16</td>\n",
              "      <td>431530,84</td>\n",
              "      <td>NaN</td>\n",
              "      <td>NaN</td>\n",
              "    </tr>\n",
              "  </tbody>\n",
              "</table>\n",
              "<p>5 rows × 27 columns</p>\n",
              "</div>\n",
              "      <button class=\"colab-df-convert\" onclick=\"convertToInteractive('df-5d1cf3fc-a6c0-41a9-a6ac-d6b2ee8d842e')\"\n",
              "              title=\"Convert this dataframe to an interactive table.\"\n",
              "              style=\"display:none;\">\n",
              "        \n",
              "  <svg xmlns=\"http://www.w3.org/2000/svg\" height=\"24px\"viewBox=\"0 0 24 24\"\n",
              "       width=\"24px\">\n",
              "    <path d=\"M0 0h24v24H0V0z\" fill=\"none\"/>\n",
              "    <path d=\"M18.56 5.44l.94 2.06.94-2.06 2.06-.94-2.06-.94-.94-2.06-.94 2.06-2.06.94zm-11 1L8.5 8.5l.94-2.06 2.06-.94-2.06-.94L8.5 2.5l-.94 2.06-2.06.94zm10 10l.94 2.06.94-2.06 2.06-.94-2.06-.94-.94-2.06-.94 2.06-2.06.94z\"/><path d=\"M17.41 7.96l-1.37-1.37c-.4-.4-.92-.59-1.43-.59-.52 0-1.04.2-1.43.59L10.3 9.45l-7.72 7.72c-.78.78-.78 2.05 0 2.83L4 21.41c.39.39.9.59 1.41.59.51 0 1.02-.2 1.41-.59l7.78-7.78 2.81-2.81c.8-.78.8-2.07 0-2.86zM5.41 20L4 18.59l7.72-7.72 1.47 1.35L5.41 20z\"/>\n",
              "  </svg>\n",
              "      </button>\n",
              "      \n",
              "  <style>\n",
              "    .colab-df-container {\n",
              "      display:flex;\n",
              "      flex-wrap:wrap;\n",
              "      gap: 12px;\n",
              "    }\n",
              "\n",
              "    .colab-df-convert {\n",
              "      background-color: #E8F0FE;\n",
              "      border: none;\n",
              "      border-radius: 50%;\n",
              "      cursor: pointer;\n",
              "      display: none;\n",
              "      fill: #1967D2;\n",
              "      height: 32px;\n",
              "      padding: 0 0 0 0;\n",
              "      width: 32px;\n",
              "    }\n",
              "\n",
              "    .colab-df-convert:hover {\n",
              "      background-color: #E2EBFA;\n",
              "      box-shadow: 0px 1px 2px rgba(60, 64, 67, 0.3), 0px 1px 3px 1px rgba(60, 64, 67, 0.15);\n",
              "      fill: #174EA6;\n",
              "    }\n",
              "\n",
              "    [theme=dark] .colab-df-convert {\n",
              "      background-color: #3B4455;\n",
              "      fill: #D2E3FC;\n",
              "    }\n",
              "\n",
              "    [theme=dark] .colab-df-convert:hover {\n",
              "      background-color: #434B5C;\n",
              "      box-shadow: 0px 1px 3px 1px rgba(0, 0, 0, 0.15);\n",
              "      filter: drop-shadow(0px 1px 2px rgba(0, 0, 0, 0.3));\n",
              "      fill: #FFFFFF;\n",
              "    }\n",
              "  </style>\n",
              "\n",
              "      <script>\n",
              "        const buttonEl =\n",
              "          document.querySelector('#df-5d1cf3fc-a6c0-41a9-a6ac-d6b2ee8d842e button.colab-df-convert');\n",
              "        buttonEl.style.display =\n",
              "          google.colab.kernel.accessAllowed ? 'block' : 'none';\n",
              "\n",
              "        async function convertToInteractive(key) {\n",
              "          const element = document.querySelector('#df-5d1cf3fc-a6c0-41a9-a6ac-d6b2ee8d842e');\n",
              "          const dataTable =\n",
              "            await google.colab.kernel.invokeFunction('convertToInteractive',\n",
              "                                                     [key], {});\n",
              "          if (!dataTable) return;\n",
              "\n",
              "          const docLinkHtml = 'Like what you see? Visit the ' +\n",
              "            '<a target=\"_blank\" href=https://colab.research.google.com/notebooks/data_table.ipynb>data table notebook</a>'\n",
              "            + ' to learn more about interactive tables.';\n",
              "          element.innerHTML = '';\n",
              "          dataTable['output_type'] = 'display_data';\n",
              "          await google.colab.output.renderOutput(dataTable, element);\n",
              "          const docLink = document.createElement('div');\n",
              "          docLink.innerHTML = docLinkHtml;\n",
              "          element.appendChild(docLink);\n",
              "        }\n",
              "      </script>\n",
              "    </div>\n",
              "  </div>\n",
              "  "
            ]
          },
          "metadata": {},
          "execution_count": 52
        }
      ]
    },
    {
      "cell_type": "code",
      "source": [
        "dataset.columns"
      ],
      "metadata": {
        "id": "owCfWE63hk40",
        "colab": {
          "base_uri": "https://localhost:8080/"
        },
        "outputId": "5c692a46-85fe-4f99-87b2-01fc06b0a9d1"
      },
      "execution_count": 53,
      "outputs": [
        {
          "output_type": "execute_result",
          "data": {
            "text/plain": [
              "Index(['case_id', 'district_id', 'district_name', 'neighborhood_id',\n",
              "       'neighborhood_name', 'street_code', 'street_name', 'postal_code',\n",
              "       'weekday_name', 'weekday', 'type_day', 'year', 'month', 'month_name',\n",
              "       'day', 'hour', 'cyrcadian', 'cause_incident', 'n_deaths',\n",
              "       'n_wounded_mild', 'n_wounded_severe', 'n_victims', 'n_vehicles',\n",
              "       'utm_coordinate_y', 'utm_coordinate_x', 'longitude', 'latitude'],\n",
              "      dtype='object')"
            ]
          },
          "metadata": {},
          "execution_count": 53
        }
      ]
    },
    {
      "cell_type": "code",
      "source": [
        "dataset.info()"
      ],
      "metadata": {
        "id": "ZFXovHw8hseF",
        "colab": {
          "base_uri": "https://localhost:8080/"
        },
        "outputId": "30908826-f1f2-44f2-b32f-1d0e96ff09da"
      },
      "execution_count": 54,
      "outputs": [
        {
          "output_type": "stream",
          "name": "stdout",
          "text": [
            "<class 'pandas.core.frame.DataFrame'>\n",
            "RangeIndex: 110655 entries, 0 to 110654\n",
            "Data columns (total 27 columns):\n",
            " #   Column             Non-Null Count   Dtype  \n",
            "---  ------             --------------   -----  \n",
            " 0   case_id            110655 non-null  object \n",
            " 1   district_id        110654 non-null  float64\n",
            " 2   district_name      110654 non-null  object \n",
            " 3   neighborhood_id    110654 non-null  object \n",
            " 4   neighborhood_name  110654 non-null  object \n",
            " 5   street_code        110654 non-null  float64\n",
            " 6   street_name        110653 non-null  object \n",
            " 7   postal_code        105851 non-null  object \n",
            " 8   weekday_name       110655 non-null  object \n",
            " 9   weekday            102995 non-null  object \n",
            " 10  type_day           102995 non-null  object \n",
            " 11  year               110654 non-null  float64\n",
            " 12  month              110654 non-null  float64\n",
            " 13  month_name         110654 non-null  object \n",
            " 14  day                110654 non-null  float64\n",
            " 15  hour               110654 non-null  float64\n",
            " 16  cyrcadian          110655 non-null  object \n",
            " 17  cause_incident     110654 non-null  object \n",
            " 18  n_deaths           110654 non-null  float64\n",
            " 19  n_wounded_mild     110654 non-null  float64\n",
            " 20  n_wounded_severe   110654 non-null  float64\n",
            " 21  n_victims          110654 non-null  float64\n",
            " 22  n_vehicles         110654 non-null  float64\n",
            " 23  utm_coordinate_y   110654 non-null  object \n",
            " 24  utm_coordinate_x   110654 non-null  object \n",
            " 25  longitude          54345 non-null   float64\n",
            " 26  latitude           54345 non-null   float64\n",
            "dtypes: float64(13), object(14)\n",
            "memory usage: 22.8+ MB\n"
          ]
        }
      ]
    },
    {
      "cell_type": "code",
      "source": [
        "dataset.shape"
      ],
      "metadata": {
        "id": "a6yfysMziaDk",
        "colab": {
          "base_uri": "https://localhost:8080/"
        },
        "outputId": "da692bcf-ea08-49a2-ad19-ddfc77e9a29e"
      },
      "execution_count": 55,
      "outputs": [
        {
          "output_type": "execute_result",
          "data": {
            "text/plain": [
              "(110655, 27)"
            ]
          },
          "metadata": {},
          "execution_count": 55
        }
      ]
    },
    {
      "cell_type": "code",
      "source": [
        "# Check for missing values in the dataset\n",
        "\n",
        "dataset.isna().any()"
      ],
      "metadata": {
        "colab": {
          "base_uri": "https://localhost:8080/"
        },
        "id": "U_FPCum-wydi",
        "outputId": "170fa164-3ca1-4b96-cd0e-dea15bce052c"
      },
      "execution_count": 56,
      "outputs": [
        {
          "output_type": "execute_result",
          "data": {
            "text/plain": [
              "case_id              False\n",
              "district_id           True\n",
              "district_name         True\n",
              "neighborhood_id       True\n",
              "neighborhood_name     True\n",
              "street_code           True\n",
              "street_name           True\n",
              "postal_code           True\n",
              "weekday_name         False\n",
              "weekday               True\n",
              "type_day              True\n",
              "year                  True\n",
              "month                 True\n",
              "month_name            True\n",
              "day                   True\n",
              "hour                  True\n",
              "cyrcadian            False\n",
              "cause_incident        True\n",
              "n_deaths              True\n",
              "n_wounded_mild        True\n",
              "n_wounded_severe      True\n",
              "n_victims             True\n",
              "n_vehicles            True\n",
              "utm_coordinate_y      True\n",
              "utm_coordinate_x      True\n",
              "longitude             True\n",
              "latitude              True\n",
              "dtype: bool"
            ]
          },
          "metadata": {},
          "execution_count": 56
        }
      ]
    },
    {
      "cell_type": "markdown",
      "source": [
        "### OBSERVATION:\n",
        "\n",
        "There are only three columns without missing values. We have to deal with the missing values before continuing with analysis of the data\n"
      ],
      "metadata": {
        "id": "ww2ZfEMBw8w8"
      }
    },
    {
      "cell_type": "code",
      "source": [
        "for cols in dataset.columns:\n",
        "    print(cols, len(dataset[cols].unique()), \"|| percetage:\",(len(dataset[cols].unique())/dataset.shape[0])*100)"
      ],
      "metadata": {
        "colab": {
          "base_uri": "https://localhost:8080/"
        },
        "id": "jM4PuB8CwKGW",
        "outputId": "73549134-10fc-45d8-e7d5-c59dd1b12b74"
      },
      "execution_count": 57,
      "outputs": [
        {
          "output_type": "stream",
          "name": "stdout",
          "text": [
            "case_id 110628 || percetage: 99.97559983733225\n",
            "district_id 12 || percetage: 0.01084451674122272\n",
            "district_name 12 || percetage: 0.01084451674122272\n",
            "neighborhood_id 297 || percetage: 0.2684017893452623\n",
            "neighborhood_name 76 || percetage: 0.06868193936107722\n",
            "street_code 2874 || percetage: 2.597261759522841\n",
            "street_name 9464 || percetage: 8.552708869910983\n",
            "postal_code 5576 || percetage: 5.039085445754823\n",
            "weekday_name 8 || percetage: 0.0072296778274818126\n",
            "weekday 15 || percetage: 0.013555645926528397\n",
            "type_day 2 || percetage: 0.0018074194568704531\n",
            "year 13 || percetage: 0.011748226469657945\n",
            "month 13 || percetage: 0.011748226469657945\n",
            "month_name 13 || percetage: 0.011748226469657945\n",
            "day 32 || percetage: 0.02891871130992725\n",
            "hour 25 || percetage: 0.022592743210880666\n",
            "cyrcadian 4 || percetage: 0.0036148389137409063\n",
            "cause_incident 8 || percetage: 0.0072296778274818126\n",
            "n_deaths 5 || percetage: 0.004518548642176133\n",
            "n_wounded_mild 18 || percetage: 0.016266775111834077\n",
            "n_wounded_severe 6 || percetage: 0.00542225837061136\n",
            "n_victims 19 || percetage: 0.017170484840269305\n",
            "n_vehicles 19 || percetage: 0.017170484840269305\n",
            "utm_coordinate_y 55879 || percetage: 50.49839591523203\n",
            "utm_coordinate_x 55667 || percetage: 50.306809452803755\n",
            "longitude 30268 || percetage: 27.353486060277437\n",
            "latitude 28558 || percetage: 25.8081424246532\n"
          ]
        }
      ]
    },
    {
      "cell_type": "markdown",
      "source": [
        "Since the total number of rows is 110655 . We will be eliminating any feature with more than / equal to 50% missing values "
      ],
      "metadata": {
        "id": "PMo9xkDExyYZ"
      }
    },
    {
      "cell_type": "code",
      "source": [
        "# Print and eliminate feature with more than / equal to 50% missing values \n",
        "\n",
        "eliminate_list = []\n",
        "\n",
        "for cols in dataset.columns:\n",
        "  percentage = (len(dataset[cols].unique())/dataset.shape[0])*100\n",
        "\n",
        "  if percentage >=50.0:\n",
        "    eliminate_list.append(cols)\n",
        "\n",
        "print(eliminate_list, \"are going to be removed from the dataset\")\n",
        "\n",
        "dataset.drop(eliminate_list, axis=1, inplace=True)"
      ],
      "metadata": {
        "colab": {
          "base_uri": "https://localhost:8080/"
        },
        "id": "kJqtNIafwsam",
        "outputId": "85751379-de7e-4d12-ed8f-286910a61c94"
      },
      "execution_count": 58,
      "outputs": [
        {
          "output_type": "stream",
          "name": "stdout",
          "text": [
            "['case_id', 'utm_coordinate_y', 'utm_coordinate_x'] are going to be removed from the dataset\n"
          ]
        }
      ]
    },
    {
      "cell_type": "code",
      "source": [
        "dataset.columns"
      ],
      "metadata": {
        "colab": {
          "base_uri": "https://localhost:8080/"
        },
        "id": "a56X0nfX1APM",
        "outputId": "4c1f0e5c-978b-4b73-ecc2-61d032bfada1"
      },
      "execution_count": 59,
      "outputs": [
        {
          "output_type": "execute_result",
          "data": {
            "text/plain": [
              "Index(['district_id', 'district_name', 'neighborhood_id', 'neighborhood_name',\n",
              "       'street_code', 'street_name', 'postal_code', 'weekday_name', 'weekday',\n",
              "       'type_day', 'year', 'month', 'month_name', 'day', 'hour', 'cyrcadian',\n",
              "       'cause_incident', 'n_deaths', 'n_wounded_mild', 'n_wounded_severe',\n",
              "       'n_victims', 'n_vehicles', 'longitude', 'latitude'],\n",
              "      dtype='object')"
            ]
          },
          "metadata": {},
          "execution_count": 59
        }
      ]
    },
    {
      "cell_type": "markdown",
      "source": [
        "# DELAING WITH MISSING VALUES"
      ],
      "metadata": {
        "id": "jyIuH1r01toi"
      }
    },
    {
      "cell_type": "code",
      "source": [
        "# Importing visualization libraries\n",
        "\n",
        "import matplotlib.pyplot as plt \n",
        "%matplotlib inline \n",
        "\n",
        "import seaborn as sns "
      ],
      "metadata": {
        "id": "5Yp6fevR1EFs"
      },
      "execution_count": 60,
      "outputs": []
    },
    {
      "cell_type": "code",
      "source": [
        "dataset.head()"
      ],
      "metadata": {
        "colab": {
          "base_uri": "https://localhost:8080/",
          "height": 382
        },
        "id": "KnRngB9O3fnm",
        "outputId": "4eedd535-67ea-45f6-83f5-32c533ae5869"
      },
      "execution_count": 61,
      "outputs": [
        {
          "output_type": "execute_result",
          "data": {
            "text/plain": [
              "   district_id district_name neighborhood_id           neighborhood_name  \\\n",
              "0         -1.0    Desconegut            -1.0                  Desconegut   \n",
              "1         10.0    Sant Martí            64.0  el Camp de l'Arpa del Clot   \n",
              "2         10.0    Sant Martí            64.0  el Camp de l'Arpa del Clot   \n",
              "3         10.0    Sant Martí            64.0  el Camp de l'Arpa del Clot   \n",
              "4         10.0    Sant Martí            64.0  el Camp de l'Arpa del Clot   \n",
              "\n",
              "   street_code          street_name postal_code weekday_name weekday type_day  \\\n",
              "0         -1.0           Desconegut  Desconegut      Dimarts      Dm  Laboral   \n",
              "1     134801.0               Freser   0208 0208      Dimarts      Dm  Laboral   \n",
              "2     161407.0            Indústria   0336 0336     Dissabte      Ds  Laboral   \n",
              "3     226400.0  Las Navas de Tolosa   0343 0343    Divendres      Dv  Laboral   \n",
              "4      95506.0                Conca   0032 0034    Divendres      Dv  Laboral   \n",
              "\n",
              "   ...  hour  cyrcadian                  cause_incident  n_deaths  \\\n",
              "0  ...  12.0       Matí        No és causa del  vianant       0.0   \n",
              "1  ...  19.0      Tarda  Desobeir el senyal del semàfor       0.0   \n",
              "2  ...  21.0      Tarda        No és causa del  vianant       0.0   \n",
              "3  ...   9.0       Matí        No és causa del  vianant       0.0   \n",
              "4  ...  20.0      Tarda        No és causa del  vianant       0.0   \n",
              "\n",
              "   n_wounded_mild n_wounded_severe n_victims  n_vehicles  longitude  latitude  \n",
              "0             2.0              0.0       2.0         2.0        NaN       NaN  \n",
              "1             1.0              0.0       1.0         1.0        NaN       NaN  \n",
              "2             1.0              0.0       1.0         1.0        NaN       NaN  \n",
              "3             1.0              0.0       1.0         2.0        NaN       NaN  \n",
              "4             2.0              0.0       2.0         1.0        NaN       NaN  \n",
              "\n",
              "[5 rows x 24 columns]"
            ],
            "text/html": [
              "\n",
              "  <div id=\"df-06a7c86e-38b1-410b-9ab9-2c8bc4864806\">\n",
              "    <div class=\"colab-df-container\">\n",
              "      <div>\n",
              "<style scoped>\n",
              "    .dataframe tbody tr th:only-of-type {\n",
              "        vertical-align: middle;\n",
              "    }\n",
              "\n",
              "    .dataframe tbody tr th {\n",
              "        vertical-align: top;\n",
              "    }\n",
              "\n",
              "    .dataframe thead th {\n",
              "        text-align: right;\n",
              "    }\n",
              "</style>\n",
              "<table border=\"1\" class=\"dataframe\">\n",
              "  <thead>\n",
              "    <tr style=\"text-align: right;\">\n",
              "      <th></th>\n",
              "      <th>district_id</th>\n",
              "      <th>district_name</th>\n",
              "      <th>neighborhood_id</th>\n",
              "      <th>neighborhood_name</th>\n",
              "      <th>street_code</th>\n",
              "      <th>street_name</th>\n",
              "      <th>postal_code</th>\n",
              "      <th>weekday_name</th>\n",
              "      <th>weekday</th>\n",
              "      <th>type_day</th>\n",
              "      <th>...</th>\n",
              "      <th>hour</th>\n",
              "      <th>cyrcadian</th>\n",
              "      <th>cause_incident</th>\n",
              "      <th>n_deaths</th>\n",
              "      <th>n_wounded_mild</th>\n",
              "      <th>n_wounded_severe</th>\n",
              "      <th>n_victims</th>\n",
              "      <th>n_vehicles</th>\n",
              "      <th>longitude</th>\n",
              "      <th>latitude</th>\n",
              "    </tr>\n",
              "  </thead>\n",
              "  <tbody>\n",
              "    <tr>\n",
              "      <th>0</th>\n",
              "      <td>-1.0</td>\n",
              "      <td>Desconegut</td>\n",
              "      <td>-1.0</td>\n",
              "      <td>Desconegut</td>\n",
              "      <td>-1.0</td>\n",
              "      <td>Desconegut</td>\n",
              "      <td>Desconegut</td>\n",
              "      <td>Dimarts</td>\n",
              "      <td>Dm</td>\n",
              "      <td>Laboral</td>\n",
              "      <td>...</td>\n",
              "      <td>12.0</td>\n",
              "      <td>Matí</td>\n",
              "      <td>No és causa del  vianant</td>\n",
              "      <td>0.0</td>\n",
              "      <td>2.0</td>\n",
              "      <td>0.0</td>\n",
              "      <td>2.0</td>\n",
              "      <td>2.0</td>\n",
              "      <td>NaN</td>\n",
              "      <td>NaN</td>\n",
              "    </tr>\n",
              "    <tr>\n",
              "      <th>1</th>\n",
              "      <td>10.0</td>\n",
              "      <td>Sant Martí</td>\n",
              "      <td>64.0</td>\n",
              "      <td>el Camp de l'Arpa del Clot</td>\n",
              "      <td>134801.0</td>\n",
              "      <td>Freser</td>\n",
              "      <td>0208 0208</td>\n",
              "      <td>Dimarts</td>\n",
              "      <td>Dm</td>\n",
              "      <td>Laboral</td>\n",
              "      <td>...</td>\n",
              "      <td>19.0</td>\n",
              "      <td>Tarda</td>\n",
              "      <td>Desobeir el senyal del semàfor</td>\n",
              "      <td>0.0</td>\n",
              "      <td>1.0</td>\n",
              "      <td>0.0</td>\n",
              "      <td>1.0</td>\n",
              "      <td>1.0</td>\n",
              "      <td>NaN</td>\n",
              "      <td>NaN</td>\n",
              "    </tr>\n",
              "    <tr>\n",
              "      <th>2</th>\n",
              "      <td>10.0</td>\n",
              "      <td>Sant Martí</td>\n",
              "      <td>64.0</td>\n",
              "      <td>el Camp de l'Arpa del Clot</td>\n",
              "      <td>161407.0</td>\n",
              "      <td>Indústria</td>\n",
              "      <td>0336 0336</td>\n",
              "      <td>Dissabte</td>\n",
              "      <td>Ds</td>\n",
              "      <td>Laboral</td>\n",
              "      <td>...</td>\n",
              "      <td>21.0</td>\n",
              "      <td>Tarda</td>\n",
              "      <td>No és causa del  vianant</td>\n",
              "      <td>0.0</td>\n",
              "      <td>1.0</td>\n",
              "      <td>0.0</td>\n",
              "      <td>1.0</td>\n",
              "      <td>1.0</td>\n",
              "      <td>NaN</td>\n",
              "      <td>NaN</td>\n",
              "    </tr>\n",
              "    <tr>\n",
              "      <th>3</th>\n",
              "      <td>10.0</td>\n",
              "      <td>Sant Martí</td>\n",
              "      <td>64.0</td>\n",
              "      <td>el Camp de l'Arpa del Clot</td>\n",
              "      <td>226400.0</td>\n",
              "      <td>Las Navas de Tolosa</td>\n",
              "      <td>0343 0343</td>\n",
              "      <td>Divendres</td>\n",
              "      <td>Dv</td>\n",
              "      <td>Laboral</td>\n",
              "      <td>...</td>\n",
              "      <td>9.0</td>\n",
              "      <td>Matí</td>\n",
              "      <td>No és causa del  vianant</td>\n",
              "      <td>0.0</td>\n",
              "      <td>1.0</td>\n",
              "      <td>0.0</td>\n",
              "      <td>1.0</td>\n",
              "      <td>2.0</td>\n",
              "      <td>NaN</td>\n",
              "      <td>NaN</td>\n",
              "    </tr>\n",
              "    <tr>\n",
              "      <th>4</th>\n",
              "      <td>10.0</td>\n",
              "      <td>Sant Martí</td>\n",
              "      <td>64.0</td>\n",
              "      <td>el Camp de l'Arpa del Clot</td>\n",
              "      <td>95506.0</td>\n",
              "      <td>Conca</td>\n",
              "      <td>0032 0034</td>\n",
              "      <td>Divendres</td>\n",
              "      <td>Dv</td>\n",
              "      <td>Laboral</td>\n",
              "      <td>...</td>\n",
              "      <td>20.0</td>\n",
              "      <td>Tarda</td>\n",
              "      <td>No és causa del  vianant</td>\n",
              "      <td>0.0</td>\n",
              "      <td>2.0</td>\n",
              "      <td>0.0</td>\n",
              "      <td>2.0</td>\n",
              "      <td>1.0</td>\n",
              "      <td>NaN</td>\n",
              "      <td>NaN</td>\n",
              "    </tr>\n",
              "  </tbody>\n",
              "</table>\n",
              "<p>5 rows × 24 columns</p>\n",
              "</div>\n",
              "      <button class=\"colab-df-convert\" onclick=\"convertToInteractive('df-06a7c86e-38b1-410b-9ab9-2c8bc4864806')\"\n",
              "              title=\"Convert this dataframe to an interactive table.\"\n",
              "              style=\"display:none;\">\n",
              "        \n",
              "  <svg xmlns=\"http://www.w3.org/2000/svg\" height=\"24px\"viewBox=\"0 0 24 24\"\n",
              "       width=\"24px\">\n",
              "    <path d=\"M0 0h24v24H0V0z\" fill=\"none\"/>\n",
              "    <path d=\"M18.56 5.44l.94 2.06.94-2.06 2.06-.94-2.06-.94-.94-2.06-.94 2.06-2.06.94zm-11 1L8.5 8.5l.94-2.06 2.06-.94-2.06-.94L8.5 2.5l-.94 2.06-2.06.94zm10 10l.94 2.06.94-2.06 2.06-.94-2.06-.94-.94-2.06-.94 2.06-2.06.94z\"/><path d=\"M17.41 7.96l-1.37-1.37c-.4-.4-.92-.59-1.43-.59-.52 0-1.04.2-1.43.59L10.3 9.45l-7.72 7.72c-.78.78-.78 2.05 0 2.83L4 21.41c.39.39.9.59 1.41.59.51 0 1.02-.2 1.41-.59l7.78-7.78 2.81-2.81c.8-.78.8-2.07 0-2.86zM5.41 20L4 18.59l7.72-7.72 1.47 1.35L5.41 20z\"/>\n",
              "  </svg>\n",
              "      </button>\n",
              "      \n",
              "  <style>\n",
              "    .colab-df-container {\n",
              "      display:flex;\n",
              "      flex-wrap:wrap;\n",
              "      gap: 12px;\n",
              "    }\n",
              "\n",
              "    .colab-df-convert {\n",
              "      background-color: #E8F0FE;\n",
              "      border: none;\n",
              "      border-radius: 50%;\n",
              "      cursor: pointer;\n",
              "      display: none;\n",
              "      fill: #1967D2;\n",
              "      height: 32px;\n",
              "      padding: 0 0 0 0;\n",
              "      width: 32px;\n",
              "    }\n",
              "\n",
              "    .colab-df-convert:hover {\n",
              "      background-color: #E2EBFA;\n",
              "      box-shadow: 0px 1px 2px rgba(60, 64, 67, 0.3), 0px 1px 3px 1px rgba(60, 64, 67, 0.15);\n",
              "      fill: #174EA6;\n",
              "    }\n",
              "\n",
              "    [theme=dark] .colab-df-convert {\n",
              "      background-color: #3B4455;\n",
              "      fill: #D2E3FC;\n",
              "    }\n",
              "\n",
              "    [theme=dark] .colab-df-convert:hover {\n",
              "      background-color: #434B5C;\n",
              "      box-shadow: 0px 1px 3px 1px rgba(0, 0, 0, 0.15);\n",
              "      filter: drop-shadow(0px 1px 2px rgba(0, 0, 0, 0.3));\n",
              "      fill: #FFFFFF;\n",
              "    }\n",
              "  </style>\n",
              "\n",
              "      <script>\n",
              "        const buttonEl =\n",
              "          document.querySelector('#df-06a7c86e-38b1-410b-9ab9-2c8bc4864806 button.colab-df-convert');\n",
              "        buttonEl.style.display =\n",
              "          google.colab.kernel.accessAllowed ? 'block' : 'none';\n",
              "\n",
              "        async function convertToInteractive(key) {\n",
              "          const element = document.querySelector('#df-06a7c86e-38b1-410b-9ab9-2c8bc4864806');\n",
              "          const dataTable =\n",
              "            await google.colab.kernel.invokeFunction('convertToInteractive',\n",
              "                                                     [key], {});\n",
              "          if (!dataTable) return;\n",
              "\n",
              "          const docLinkHtml = 'Like what you see? Visit the ' +\n",
              "            '<a target=\"_blank\" href=https://colab.research.google.com/notebooks/data_table.ipynb>data table notebook</a>'\n",
              "            + ' to learn more about interactive tables.';\n",
              "          element.innerHTML = '';\n",
              "          dataTable['output_type'] = 'display_data';\n",
              "          await google.colab.output.renderOutput(dataTable, element);\n",
              "          const docLink = document.createElement('div');\n",
              "          docLink.innerHTML = docLinkHtml;\n",
              "          element.appendChild(docLink);\n",
              "        }\n",
              "      </script>\n",
              "    </div>\n",
              "  </div>\n",
              "  "
            ]
          },
          "metadata": {},
          "execution_count": 61
        }
      ]
    },
    {
      "cell_type": "code",
      "source": [
        "# Let us plot the distribution of a feature with continuous variables \n",
        "\n",
        "sns.distplot(dataset.hour)"
      ],
      "metadata": {
        "colab": {
          "base_uri": "https://localhost:8080/",
          "height": 350
        },
        "id": "VPU-37bN2yXG",
        "outputId": "630af720-dc85-4777-d7a5-4026fcaace89"
      },
      "execution_count": 62,
      "outputs": [
        {
          "output_type": "stream",
          "name": "stderr",
          "text": [
            "/usr/local/lib/python3.7/dist-packages/seaborn/distributions.py:2619: FutureWarning: `distplot` is a deprecated function and will be removed in a future version. Please adapt your code to use either `displot` (a figure-level function with similar flexibility) or `histplot` (an axes-level function for histograms).\n",
            "  warnings.warn(msg, FutureWarning)\n"
          ]
        },
        {
          "output_type": "execute_result",
          "data": {
            "text/plain": [
              "<matplotlib.axes._subplots.AxesSubplot at 0x7ff77a641590>"
            ]
          },
          "metadata": {},
          "execution_count": 62
        },
        {
          "output_type": "display_data",
          "data": {
            "text/plain": [
              "<Figure size 432x288 with 1 Axes>"
            ],
            "image/png": "[encoded data removed]"
          },
          "metadata": {
            "needs_background": "light"
          }
        }
      ]
    },
    {
      "cell_type": "code",
      "source": [
        "dataset[\"hour\"].fillna(dataset[\"hour\"].mean(),inplace=True)"
      ],
      "metadata": {
        "id": "YzJccj284acr"
      },
      "execution_count": 69,
      "outputs": []
    },
    {
      "cell_type": "code",
      "source": [
        "sns.distplot(dataset.hour)"
      ],
      "metadata": {
        "colab": {
          "base_uri": "https://localhost:8080/",
          "height": 350
        },
        "id": "6FDD5SiH4ePH",
        "outputId": "0ddc66d8-1ee8-4794-98e6-4610bf32df3b"
      },
      "execution_count": 70,
      "outputs": [
        {
          "output_type": "stream",
          "name": "stderr",
          "text": [
            "/usr/local/lib/python3.7/dist-packages/seaborn/distributions.py:2619: FutureWarning: `distplot` is a deprecated function and will be removed in a future version. Please adapt your code to use either `displot` (a figure-level function with similar flexibility) or `histplot` (an axes-level function for histograms).\n",
            "  warnings.warn(msg, FutureWarning)\n"
          ]
        },
        {
          "output_type": "execute_result",
          "data": {
            "text/plain": [
              "<matplotlib.axes._subplots.AxesSubplot at 0x7ff77afcdc50>"
            ]
          },
          "metadata": {},
          "execution_count": 70
        },
        {
          "output_type": "display_data",
          "data": {
            "text/plain": [
              "<Figure size 432x288 with 1 Axes>"
            ],
            "image/png": "[encoded data removed]"
          },
          "metadata": {
            "needs_background": "light"
          }
        }
      ]
    },
    {
      "cell_type": "markdown",
      "source": [
        "Well, as filling the missig values with their means doesnt change the distribution. We will be filling continuous features this way  "
      ],
      "metadata": {
        "id": "a9DD5JtM9Hs1"
      }
    },
    {
      "cell_type": "code",
      "source": [
        "for cols in dataset.columns:\n",
        "  if dataset[cols].isna().any() and type(dataset[cols][0])==np.float64:\n",
        "    dataset[cols].fillna(dataset[cols].mean(), inplace=True)"
      ],
      "metadata": {
        "id": "JaiFG67n5Tu3"
      },
      "execution_count": 81,
      "outputs": []
    },
    {
      "cell_type": "code",
      "source": [
        "# Checking for remaning missing values\n",
        "\n",
        "categorical_columns = []\n",
        "\n",
        "for col in dataset.columns:\n",
        "  if dataset[col].isna().any():\n",
        "    categorical_columns.append(col)\n",
        "\n",
        "print(categorical_columns)\n",
        "\n",
        "for col in categorical_columns:\n",
        "  dataset[col].fillna(dataset[col].value_counts().index[0], inplace=True)"
      ],
      "metadata": {
        "colab": {
          "base_uri": "https://localhost:8080/"
        },
        "id": "1TQ9q5Kt9ePz",
        "outputId": "1ae265b9-8319-4bcb-b3a9-f5cdddc5a9c5"
      },
      "execution_count": 95,
      "outputs": [
        {
          "output_type": "stream",
          "name": "stdout",
          "text": [
            "['district_name', 'neighborhood_id', 'neighborhood_name', 'street_name', 'postal_code', 'weekday', 'type_day', 'month_name', 'cause_incident']\n"
          ]
        }
      ]
    },
    {
      "cell_type": "code",
      "source": [
        "dataset.isna().any()"
      ],
      "metadata": {
        "colab": {
          "base_uri": "https://localhost:8080/"
        },
        "id": "3x-wYUey9ftt",
        "outputId": "ad8d6f74-f0f4-4bfb-870d-0f361de1a1ff"
      },
      "execution_count": 97,
      "outputs": [
        {
          "output_type": "execute_result",
          "data": {
            "text/plain": [
              "district_id          False\n",
              "district_name        False\n",
              "neighborhood_id      False\n",
              "neighborhood_name    False\n",
              "street_code          False\n",
              "street_name          False\n",
              "postal_code          False\n",
              "weekday_name         False\n",
              "weekday              False\n",
              "type_day             False\n",
              "year                 False\n",
              "month                False\n",
              "month_name           False\n",
              "day                  False\n",
              "hour                 False\n",
              "cyrcadian            False\n",
              "cause_incident       False\n",
              "n_deaths             False\n",
              "n_wounded_mild       False\n",
              "n_wounded_severe     False\n",
              "n_victims            False\n",
              "n_vehicles           False\n",
              "longitude            False\n",
              "latitude             False\n",
              "dtype: bool"
            ]
          },
          "metadata": {},
          "execution_count": 97
        }
      ]
    },
    {
      "cell_type": "markdown",
      "source": [
        "### We have dealt with the missing values "
      ],
      "metadata": {
        "id": "-rneDvrK_oP5"
      }
    },
    {
      "cell_type": "code",
      "source": [
        ""
      ],
      "metadata": {
        "id": "PXwZIeT49x18"
      },
      "execution_count": null,
      "outputs": []
    }
  ]
}