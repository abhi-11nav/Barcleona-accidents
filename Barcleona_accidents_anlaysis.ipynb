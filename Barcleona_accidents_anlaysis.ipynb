{
  "nbformat": 4,
  "nbformat_minor": 0,
  "metadata": {
    "colab": {
      "name": "Barcleona_accidents_anlaysis.ipynb",
      "provenance": [],
      "collapsed_sections": [],
      "authorship_tag": "ABX9TyMxmL335VrBKf9ziZhQm3L8",
      "include_colab_link": true
    },
    "kernelspec": {
      "name": "python3",
      "display_name": "Python 3"
    },
    "language_info": {
      "name": "python"
    }
  },
  "cells": [
    {
      "cell_type": "markdown",
      "metadata": {
        "id": "view-in-github",
        "colab_type": "text"
      },
      "source": [
        "<a href=\"https://colab.research.google.com/github/abhi-11nav/Barcleona-accidents/blob/main/Barcleona_accidents_anlaysis.ipynb\" target=\"_parent\"><img src=\"https://colab.research.google.com/assets/colab-badge.svg\" alt=\"Open In Colab\"/></a>"
      ]
    },
    {
      "cell_type": "code",
      "execution_count": 1,
      "metadata": {
        "id": "1XG7L92md28w"
      },
      "outputs": [],
      "source": [
        "import numpy as np \n",
        "import pandas as pd"
      ]
    },
    {
      "cell_type": "markdown",
      "source": [
        "# Dataset credits \n",
        "\n",
        "https://www.kaggle.com/datasets/emmanuelfwerr/barcelona-car-accidents"
      ],
      "metadata": {
        "id": "SIhyKKAReZGD"
      }
    },
    {
      "cell_type": "code",
      "source": [
        "url = \"https://raw.githubusercontent.com/abhi-11nav/Barcleona-accidents/main/accidents_opendata.csv\""
      ],
      "metadata": {
        "id": "bso9rAKdebd3"
      },
      "execution_count": 2,
      "outputs": []
    },
    {
      "cell_type": "code",
      "source": [
        "dataset = pd.read_csv(url)"
      ],
      "metadata": {
        "colab": {
          "base_uri": "https://localhost:8080/"
        },
        "id": "0vcfq3oMfr7D",
        "outputId": "039f6f76-f72a-4ee7-834b-985a2757ec10"
      },
      "execution_count": 3,
      "outputs": [
        {
          "output_type": "stream",
          "name": "stderr",
          "text": [
            "/usr/local/lib/python3.7/dist-packages/IPython/core/interactiveshell.py:2882: DtypeWarning: Columns (3) have mixed types.Specify dtype option on import or set low_memory=False.\n",
            "  exec(code_obj, self.user_global_ns, self.user_ns)\n"
          ]
        }
      ]
    },
    {
      "cell_type": "code",
      "source": [
        "dataset.head()"
      ],
      "metadata": {
        "colab": {
          "base_uri": "https://localhost:8080/",
          "height": 382
        },
        "id": "losHCSflfubD",
        "outputId": "f770d98c-3ce6-467b-ae14-a4e33fd31e0b"
      },
      "execution_count": 4,
      "outputs": [
        {
          "output_type": "execute_result",
          "data": {
            "text/plain": [
              "       case_id  district_id district_name neighborhood_id  \\\n",
              "0  2015S005807         -1.0    Desconegut            -1.0   \n",
              "1  2015S007685         10.0    Sant Martí            64.0   \n",
              "2  2015S001364         10.0    Sant Martí            64.0   \n",
              "3  2015S004325         10.0    Sant Martí            64.0   \n",
              "4  2015S005540         10.0    Sant Martí            64.0   \n",
              "\n",
              "            neighborhood_name  street_code          street_name postal_code  \\\n",
              "0                  Desconegut         -1.0           Desconegut  Desconegut   \n",
              "1  el Camp de l'Arpa del Clot     134801.0               Freser   0208 0208   \n",
              "2  el Camp de l'Arpa del Clot     161407.0            Indústria   0336 0336   \n",
              "3  el Camp de l'Arpa del Clot     226400.0  Las Navas de Tolosa   0343 0343   \n",
              "4  el Camp de l'Arpa del Clot      95506.0                Conca   0032 0034   \n",
              "\n",
              "  weekday_name weekday  ...                  cause_incident  n_deaths  \\\n",
              "0      Dimarts      Dm  ...        No és causa del  vianant       0.0   \n",
              "1      Dimarts      Dm  ...  Desobeir el senyal del semàfor       0.0   \n",
              "2     Dissabte      Ds  ...        No és causa del  vianant       0.0   \n",
              "3    Divendres      Dv  ...        No és causa del  vianant       0.0   \n",
              "4    Divendres      Dv  ...        No és causa del  vianant       0.0   \n",
              "\n",
              "   n_wounded_mild n_wounded_severe  n_victims  n_vehicles utm_coordinate_y  \\\n",
              "0             2.0              0.0        2.0         2.0               -1   \n",
              "1             1.0              0.0        1.0         1.0       4585420,58   \n",
              "2             1.0              0.0        1.0         1.0       4585555,86   \n",
              "3             1.0              0.0        1.0         2.0       4585565,44   \n",
              "4             2.0              0.0        2.0         1.0       4585260,16   \n",
              "\n",
              "  utm_coordinate_x  longitude  latitude  \n",
              "0               -1        NaN       NaN  \n",
              "1        431779,16        NaN       NaN  \n",
              "2        431913,65        NaN       NaN  \n",
              "3        431946,45        NaN       NaN  \n",
              "4        431530,84        NaN       NaN  \n",
              "\n",
              "[5 rows x 27 columns]"
            ],
            "text/html": [
              "\n",
              "  <div id=\"df-03784695-6716-4efa-8f81-6a15c4641c8c\">\n",
              "    <div class=\"colab-df-container\">\n",
              "      <div>\n",
              "<style scoped>\n",
              "    .dataframe tbody tr th:only-of-type {\n",
              "        vertical-align: middle;\n",
              "    }\n",
              "\n",
              "    .dataframe tbody tr th {\n",
              "        vertical-align: top;\n",
              "    }\n",
              "\n",
              "    .dataframe thead th {\n",
              "        text-align: right;\n",
              "    }\n",
              "</style>\n",
              "<table border=\"1\" class=\"dataframe\">\n",
              "  <thead>\n",
              "    <tr style=\"text-align: right;\">\n",
              "      <th></th>\n",
              "      <th>case_id</th>\n",
              "      <th>district_id</th>\n",
              "      <th>district_name</th>\n",
              "      <th>neighborhood_id</th>\n",
              "      <th>neighborhood_name</th>\n",
              "      <th>street_code</th>\n",
              "      <th>street_name</th>\n",
              "      <th>postal_code</th>\n",
              "      <th>weekday_name</th>\n",
              "      <th>weekday</th>\n",
              "      <th>...</th>\n",
              "      <th>cause_incident</th>\n",
              "      <th>n_deaths</th>\n",
              "      <th>n_wounded_mild</th>\n",
              "      <th>n_wounded_severe</th>\n",
              "      <th>n_victims</th>\n",
              "      <th>n_vehicles</th>\n",
              "      <th>utm_coordinate_y</th>\n",
              "      <th>utm_coordinate_x</th>\n",
              "      <th>longitude</th>\n",
              "      <th>latitude</th>\n",
              "    </tr>\n",
              "  </thead>\n",
              "  <tbody>\n",
              "    <tr>\n",
              "      <th>0</th>\n",
              "      <td>2015S005807</td>\n",
              "      <td>-1.0</td>\n",
              "      <td>Desconegut</td>\n",
              "      <td>-1.0</td>\n",
              "      <td>Desconegut</td>\n",
              "      <td>-1.0</td>\n",
              "      <td>Desconegut</td>\n",
              "      <td>Desconegut</td>\n",
              "      <td>Dimarts</td>\n",
              "      <td>Dm</td>\n",
              "      <td>...</td>\n",
              "      <td>No és causa del  vianant</td>\n",
              "      <td>0.0</td>\n",
              "      <td>2.0</td>\n",
              "      <td>0.0</td>\n",
              "      <td>2.0</td>\n",
              "      <td>2.0</td>\n",
              "      <td>-1</td>\n",
              "      <td>-1</td>\n",
              "      <td>NaN</td>\n",
              "      <td>NaN</td>\n",
              "    </tr>\n",
              "    <tr>\n",
              "      <th>1</th>\n",
              "      <td>2015S007685</td>\n",
              "      <td>10.0</td>\n",
              "      <td>Sant Martí</td>\n",
              "      <td>64.0</td>\n",
              "      <td>el Camp de l'Arpa del Clot</td>\n",
              "      <td>134801.0</td>\n",
              "      <td>Freser</td>\n",
              "      <td>0208 0208</td>\n",
              "      <td>Dimarts</td>\n",
              "      <td>Dm</td>\n",
              "      <td>...</td>\n",
              "      <td>Desobeir el senyal del semàfor</td>\n",
              "      <td>0.0</td>\n",
              "      <td>1.0</td>\n",
              "      <td>0.0</td>\n",
              "      <td>1.0</td>\n",
              "      <td>1.0</td>\n",
              "      <td>4585420,58</td>\n",
              "      <td>431779,16</td>\n",
              "      <td>NaN</td>\n",
              "      <td>NaN</td>\n",
              "    </tr>\n",
              "    <tr>\n",
              "      <th>2</th>\n",
              "      <td>2015S001364</td>\n",
              "      <td>10.0</td>\n",
              "      <td>Sant Martí</td>\n",
              "      <td>64.0</td>\n",
              "      <td>el Camp de l'Arpa del Clot</td>\n",
              "      <td>161407.0</td>\n",
              "      <td>Indústria</td>\n",
              "      <td>0336 0336</td>\n",
              "      <td>Dissabte</td>\n",
              "      <td>Ds</td>\n",
              "      <td>...</td>\n",
              "      <td>No és causa del  vianant</td>\n",
              "      <td>0.0</td>\n",
              "      <td>1.0</td>\n",
              "      <td>0.0</td>\n",
              "      <td>1.0</td>\n",
              "      <td>1.0</td>\n",
              "      <td>4585555,86</td>\n",
              "      <td>431913,65</td>\n",
              "      <td>NaN</td>\n",
              "      <td>NaN</td>\n",
              "    </tr>\n",
              "    <tr>\n",
              "      <th>3</th>\n",
              "      <td>2015S004325</td>\n",
              "      <td>10.0</td>\n",
              "      <td>Sant Martí</td>\n",
              "      <td>64.0</td>\n",
              "      <td>el Camp de l'Arpa del Clot</td>\n",
              "      <td>226400.0</td>\n",
              "      <td>Las Navas de Tolosa</td>\n",
              "      <td>0343 0343</td>\n",
              "      <td>Divendres</td>\n",
              "      <td>Dv</td>\n",
              "      <td>...</td>\n",
              "      <td>No és causa del  vianant</td>\n",
              "      <td>0.0</td>\n",
              "      <td>1.0</td>\n",
              "      <td>0.0</td>\n",
              "      <td>1.0</td>\n",
              "      <td>2.0</td>\n",
              "      <td>4585565,44</td>\n",
              "      <td>431946,45</td>\n",
              "      <td>NaN</td>\n",
              "      <td>NaN</td>\n",
              "    </tr>\n",
              "    <tr>\n",
              "      <th>4</th>\n",
              "      <td>2015S005540</td>\n",
              "      <td>10.0</td>\n",
              "      <td>Sant Martí</td>\n",
              "      <td>64.0</td>\n",
              "      <td>el Camp de l'Arpa del Clot</td>\n",
              "      <td>95506.0</td>\n",
              "      <td>Conca</td>\n",
              "      <td>0032 0034</td>\n",
              "      <td>Divendres</td>\n",
              "      <td>Dv</td>\n",
              "      <td>...</td>\n",
              "      <td>No és causa del  vianant</td>\n",
              "      <td>0.0</td>\n",
              "      <td>2.0</td>\n",
              "      <td>0.0</td>\n",
              "      <td>2.0</td>\n",
              "      <td>1.0</td>\n",
              "      <td>4585260,16</td>\n",
              "      <td>431530,84</td>\n",
              "      <td>NaN</td>\n",
              "      <td>NaN</td>\n",
              "    </tr>\n",
              "  </tbody>\n",
              "</table>\n",
              "<p>5 rows × 27 columns</p>\n",
              "</div>\n",
              "      <button class=\"colab-df-convert\" onclick=\"convertToInteractive('df-03784695-6716-4efa-8f81-6a15c4641c8c')\"\n",
              "              title=\"Convert this dataframe to an interactive table.\"\n",
              "              style=\"display:none;\">\n",
              "        \n",
              "  <svg xmlns=\"http://www.w3.org/2000/svg\" height=\"24px\"viewBox=\"0 0 24 24\"\n",
              "       width=\"24px\">\n",
              "    <path d=\"M0 0h24v24H0V0z\" fill=\"none\"/>\n",
              "    <path d=\"M18.56 5.44l.94 2.06.94-2.06 2.06-.94-2.06-.94-.94-2.06-.94 2.06-2.06.94zm-11 1L8.5 8.5l.94-2.06 2.06-.94-2.06-.94L8.5 2.5l-.94 2.06-2.06.94zm10 10l.94 2.06.94-2.06 2.06-.94-2.06-.94-.94-2.06-.94 2.06-2.06.94z\"/><path d=\"M17.41 7.96l-1.37-1.37c-.4-.4-.92-.59-1.43-.59-.52 0-1.04.2-1.43.59L10.3 9.45l-7.72 7.72c-.78.78-.78 2.05 0 2.83L4 21.41c.39.39.9.59 1.41.59.51 0 1.02-.2 1.41-.59l7.78-7.78 2.81-2.81c.8-.78.8-2.07 0-2.86zM5.41 20L4 18.59l7.72-7.72 1.47 1.35L5.41 20z\"/>\n",
              "  </svg>\n",
              "      </button>\n",
              "      \n",
              "  <style>\n",
              "    .colab-df-container {\n",
              "      display:flex;\n",
              "      flex-wrap:wrap;\n",
              "      gap: 12px;\n",
              "    }\n",
              "\n",
              "    .colab-df-convert {\n",
              "      background-color: #E8F0FE;\n",
              "      border: none;\n",
              "      border-radius: 50%;\n",
              "      cursor: pointer;\n",
              "      display: none;\n",
              "      fill: #1967D2;\n",
              "      height: 32px;\n",
              "      padding: 0 0 0 0;\n",
              "      width: 32px;\n",
              "    }\n",
              "\n",
              "    .colab-df-convert:hover {\n",
              "      background-color: #E2EBFA;\n",
              "      box-shadow: 0px 1px 2px rgba(60, 64, 67, 0.3), 0px 1px 3px 1px rgba(60, 64, 67, 0.15);\n",
              "      fill: #174EA6;\n",
              "    }\n",
              "\n",
              "    [theme=dark] .colab-df-convert {\n",
              "      background-color: #3B4455;\n",
              "      fill: #D2E3FC;\n",
              "    }\n",
              "\n",
              "    [theme=dark] .colab-df-convert:hover {\n",
              "      background-color: #434B5C;\n",
              "      box-shadow: 0px 1px 3px 1px rgba(0, 0, 0, 0.15);\n",
              "      filter: drop-shadow(0px 1px 2px rgba(0, 0, 0, 0.3));\n",
              "      fill: #FFFFFF;\n",
              "    }\n",
              "  </style>\n",
              "\n",
              "      <script>\n",
              "        const buttonEl =\n",
              "          document.querySelector('#df-03784695-6716-4efa-8f81-6a15c4641c8c button.colab-df-convert');\n",
              "        buttonEl.style.display =\n",
              "          google.colab.kernel.accessAllowed ? 'block' : 'none';\n",
              "\n",
              "        async function convertToInteractive(key) {\n",
              "          const element = document.querySelector('#df-03784695-6716-4efa-8f81-6a15c4641c8c');\n",
              "          const dataTable =\n",
              "            await google.colab.kernel.invokeFunction('convertToInteractive',\n",
              "                                                     [key], {});\n",
              "          if (!dataTable) return;\n",
              "\n",
              "          const docLinkHtml = 'Like what you see? Visit the ' +\n",
              "            '<a target=\"_blank\" href=https://colab.research.google.com/notebooks/data_table.ipynb>data table notebook</a>'\n",
              "            + ' to learn more about interactive tables.';\n",
              "          element.innerHTML = '';\n",
              "          dataTable['output_type'] = 'display_data';\n",
              "          await google.colab.output.renderOutput(dataTable, element);\n",
              "          const docLink = document.createElement('div');\n",
              "          docLink.innerHTML = docLinkHtml;\n",
              "          element.appendChild(docLink);\n",
              "        }\n",
              "      </script>\n",
              "    </div>\n",
              "  </div>\n",
              "  "
            ]
          },
          "metadata": {},
          "execution_count": 4
        }
      ]
    },
    {
      "cell_type": "code",
      "source": [
        "dataset.columns"
      ],
      "metadata": {
        "id": "owCfWE63hk40",
        "colab": {
          "base_uri": "https://localhost:8080/"
        },
        "outputId": "b9f00e50-c843-49da-e1ab-077d512c135b"
      },
      "execution_count": 5,
      "outputs": [
        {
          "output_type": "execute_result",
          "data": {
            "text/plain": [
              "Index(['case_id', 'district_id', 'district_name', 'neighborhood_id',\n",
              "       'neighborhood_name', 'street_code', 'street_name', 'postal_code',\n",
              "       'weekday_name', 'weekday', 'type_day', 'year', 'month', 'month_name',\n",
              "       'day', 'hour', 'cyrcadian', 'cause_incident', 'n_deaths',\n",
              "       'n_wounded_mild', 'n_wounded_severe', 'n_victims', 'n_vehicles',\n",
              "       'utm_coordinate_y', 'utm_coordinate_x', 'longitude', 'latitude'],\n",
              "      dtype='object')"
            ]
          },
          "metadata": {},
          "execution_count": 5
        }
      ]
    },
    {
      "cell_type": "code",
      "source": [
        "dataset.info()"
      ],
      "metadata": {
        "id": "ZFXovHw8hseF",
        "colab": {
          "base_uri": "https://localhost:8080/"
        },
        "outputId": "91bf55a5-24d6-4f01-a6fc-3bb22ab4724d"
      },
      "execution_count": 6,
      "outputs": [
        {
          "output_type": "stream",
          "name": "stdout",
          "text": [
            "<class 'pandas.core.frame.DataFrame'>\n",
            "RangeIndex: 110655 entries, 0 to 110654\n",
            "Data columns (total 27 columns):\n",
            " #   Column             Non-Null Count   Dtype  \n",
            "---  ------             --------------   -----  \n",
            " 0   case_id            110655 non-null  object \n",
            " 1   district_id        110654 non-null  float64\n",
            " 2   district_name      110654 non-null  object \n",
            " 3   neighborhood_id    110654 non-null  object \n",
            " 4   neighborhood_name  110654 non-null  object \n",
            " 5   street_code        110654 non-null  float64\n",
            " 6   street_name        110653 non-null  object \n",
            " 7   postal_code        105851 non-null  object \n",
            " 8   weekday_name       110655 non-null  object \n",
            " 9   weekday            102995 non-null  object \n",
            " 10  type_day           102995 non-null  object \n",
            " 11  year               110654 non-null  float64\n",
            " 12  month              110654 non-null  float64\n",
            " 13  month_name         110654 non-null  object \n",
            " 14  day                110654 non-null  float64\n",
            " 15  hour               110654 non-null  float64\n",
            " 16  cyrcadian          110655 non-null  object \n",
            " 17  cause_incident     110654 non-null  object \n",
            " 18  n_deaths           110654 non-null  float64\n",
            " 19  n_wounded_mild     110654 non-null  float64\n",
            " 20  n_wounded_severe   110654 non-null  float64\n",
            " 21  n_victims          110654 non-null  float64\n",
            " 22  n_vehicles         110654 non-null  float64\n",
            " 23  utm_coordinate_y   110654 non-null  object \n",
            " 24  utm_coordinate_x   110654 non-null  object \n",
            " 25  longitude          54345 non-null   float64\n",
            " 26  latitude           54345 non-null   float64\n",
            "dtypes: float64(13), object(14)\n",
            "memory usage: 22.8+ MB\n"
          ]
        }
      ]
    },
    {
      "cell_type": "code",
      "source": [
        "dataset.shape"
      ],
      "metadata": {
        "id": "a6yfysMziaDk",
        "colab": {
          "base_uri": "https://localhost:8080/"
        },
        "outputId": "d647d20f-2e00-4d19-cb15-11fd5def1c85"
      },
      "execution_count": 7,
      "outputs": [
        {
          "output_type": "execute_result",
          "data": {
            "text/plain": [
              "(110655, 27)"
            ]
          },
          "metadata": {},
          "execution_count": 7
        }
      ]
    },
    {
      "cell_type": "code",
      "source": [
        "# Check for missing values in the dataset\n",
        "\n",
        "dataset.isna().any()"
      ],
      "metadata": {
        "colab": {
          "base_uri": "https://localhost:8080/"
        },
        "id": "U_FPCum-wydi",
        "outputId": "6f44f3f7-b844-4f7c-bd65-1844ab1a3838"
      },
      "execution_count": 8,
      "outputs": [
        {
          "output_type": "execute_result",
          "data": {
            "text/plain": [
              "case_id              False\n",
              "district_id           True\n",
              "district_name         True\n",
              "neighborhood_id       True\n",
              "neighborhood_name     True\n",
              "street_code           True\n",
              "street_name           True\n",
              "postal_code           True\n",
              "weekday_name         False\n",
              "weekday               True\n",
              "type_day              True\n",
              "year                  True\n",
              "month                 True\n",
              "month_name            True\n",
              "day                   True\n",
              "hour                  True\n",
              "cyrcadian            False\n",
              "cause_incident        True\n",
              "n_deaths              True\n",
              "n_wounded_mild        True\n",
              "n_wounded_severe      True\n",
              "n_victims             True\n",
              "n_vehicles            True\n",
              "utm_coordinate_y      True\n",
              "utm_coordinate_x      True\n",
              "longitude             True\n",
              "latitude              True\n",
              "dtype: bool"
            ]
          },
          "metadata": {},
          "execution_count": 8
        }
      ]
    },
    {
      "cell_type": "markdown",
      "source": [
        "### OBSERVATION:\n",
        "\n",
        "There are only three columns without missing values. We have to deal with the missing values before continuing with analysis of the data\n"
      ],
      "metadata": {
        "id": "ww2ZfEMBw8w8"
      }
    },
    {
      "cell_type": "code",
      "source": [
        "for cols in dataset.columns:\n",
        "    print(cols, len(dataset[cols].unique()), \"|| percetage:\",(len(dataset[cols].unique())/dataset.shape[0])*100)"
      ],
      "metadata": {
        "colab": {
          "base_uri": "https://localhost:8080/"
        },
        "id": "jM4PuB8CwKGW",
        "outputId": "095e10b2-a007-4174-b60a-7d61e10f063f"
      },
      "execution_count": 9,
      "outputs": [
        {
          "output_type": "stream",
          "name": "stdout",
          "text": [
            "case_id 110628 || percetage: 99.97559983733225\n",
            "district_id 12 || percetage: 0.01084451674122272\n",
            "district_name 12 || percetage: 0.01084451674122272\n",
            "neighborhood_id 297 || percetage: 0.2684017893452623\n",
            "neighborhood_name 76 || percetage: 0.06868193936107722\n",
            "street_code 2874 || percetage: 2.597261759522841\n",
            "street_name 9464 || percetage: 8.552708869910983\n",
            "postal_code 5576 || percetage: 5.039085445754823\n",
            "weekday_name 8 || percetage: 0.0072296778274818126\n",
            "weekday 15 || percetage: 0.013555645926528397\n",
            "type_day 2 || percetage: 0.0018074194568704531\n",
            "year 13 || percetage: 0.011748226469657945\n",
            "month 13 || percetage: 0.011748226469657945\n",
            "month_name 13 || percetage: 0.011748226469657945\n",
            "day 32 || percetage: 0.02891871130992725\n",
            "hour 25 || percetage: 0.022592743210880666\n",
            "cyrcadian 4 || percetage: 0.0036148389137409063\n",
            "cause_incident 8 || percetage: 0.0072296778274818126\n",
            "n_deaths 5 || percetage: 0.004518548642176133\n",
            "n_wounded_mild 18 || percetage: 0.016266775111834077\n",
            "n_wounded_severe 6 || percetage: 0.00542225837061136\n",
            "n_victims 19 || percetage: 0.017170484840269305\n",
            "n_vehicles 19 || percetage: 0.017170484840269305\n",
            "utm_coordinate_y 55879 || percetage: 50.49839591523203\n",
            "utm_coordinate_x 55667 || percetage: 50.306809452803755\n",
            "longitude 30268 || percetage: 27.353486060277437\n",
            "latitude 28558 || percetage: 25.8081424246532\n"
          ]
        }
      ]
    },
    {
      "cell_type": "markdown",
      "source": [
        "Since the total number of rows is 110655 . We will be eliminating any feature with more than / equal to 50% missing values "
      ],
      "metadata": {
        "id": "PMo9xkDExyYZ"
      }
    },
    {
      "cell_type": "code",
      "source": [
        "# Print and eliminate feature with more than / equal to 50% missing values \n",
        "\n",
        "eliminate_list = []\n",
        "\n",
        "for cols in dataset.columns:\n",
        "  percentage = (len(dataset[cols].unique())/dataset.shape[0])*100\n",
        "\n",
        "  if percentage >=50.0:\n",
        "    eliminate_list.append(cols)\n",
        "\n",
        "print(eliminate_list, \"are going to be removed from the dataset\")\n",
        "\n",
        "dataset.drop(eliminate_list, axis=1, inplace=True)"
      ],
      "metadata": {
        "colab": {
          "base_uri": "https://localhost:8080/"
        },
        "id": "kJqtNIafwsam",
        "outputId": "76f08c16-b99c-417a-d89d-6a6d7dd5979f"
      },
      "execution_count": 10,
      "outputs": [
        {
          "output_type": "stream",
          "name": "stdout",
          "text": [
            "['case_id', 'utm_coordinate_y', 'utm_coordinate_x'] are going to be removed from the dataset\n"
          ]
        }
      ]
    },
    {
      "cell_type": "code",
      "source": [
        "dataset.columns"
      ],
      "metadata": {
        "colab": {
          "base_uri": "https://localhost:8080/"
        },
        "id": "a56X0nfX1APM",
        "outputId": "5d7b1ff6-ff4a-4027-99f5-190ce498e5ba"
      },
      "execution_count": 11,
      "outputs": [
        {
          "output_type": "execute_result",
          "data": {
            "text/plain": [
              "Index(['district_id', 'district_name', 'neighborhood_id', 'neighborhood_name',\n",
              "       'street_code', 'street_name', 'postal_code', 'weekday_name', 'weekday',\n",
              "       'type_day', 'year', 'month', 'month_name', 'day', 'hour', 'cyrcadian',\n",
              "       'cause_incident', 'n_deaths', 'n_wounded_mild', 'n_wounded_severe',\n",
              "       'n_victims', 'n_vehicles', 'longitude', 'latitude'],\n",
              "      dtype='object')"
            ]
          },
          "metadata": {},
          "execution_count": 11
        }
      ]
    },
    {
      "cell_type": "markdown",
      "source": [
        "# DELAING WITH MISSING VALUES"
      ],
      "metadata": {
        "id": "jyIuH1r01toi"
      }
    },
    {
      "cell_type": "code",
      "source": [
        "# Importing visualization libraries\n",
        "\n",
        "import matplotlib.pyplot as plt \n",
        "%matplotlib inline \n",
        "\n",
        "import seaborn as sns "
      ],
      "metadata": {
        "id": "5Yp6fevR1EFs"
      },
      "execution_count": 12,
      "outputs": []
    },
    {
      "cell_type": "code",
      "source": [
        "dataset.head()"
      ],
      "metadata": {
        "colab": {
          "base_uri": "https://localhost:8080/",
          "height": 382
        },
        "id": "KnRngB9O3fnm",
        "outputId": "ab6f4d14-31ac-40e0-9b7c-55c5702a6578"
      },
      "execution_count": 13,
      "outputs": [
        {
          "output_type": "execute_result",
          "data": {
            "text/plain": [
              "   district_id district_name neighborhood_id           neighborhood_name  \\\n",
              "0         -1.0    Desconegut            -1.0                  Desconegut   \n",
              "1         10.0    Sant Martí            64.0  el Camp de l'Arpa del Clot   \n",
              "2         10.0    Sant Martí            64.0  el Camp de l'Arpa del Clot   \n",
              "3         10.0    Sant Martí            64.0  el Camp de l'Arpa del Clot   \n",
              "4         10.0    Sant Martí            64.0  el Camp de l'Arpa del Clot   \n",
              "\n",
              "   street_code          street_name postal_code weekday_name weekday type_day  \\\n",
              "0         -1.0           Desconegut  Desconegut      Dimarts      Dm  Laboral   \n",
              "1     134801.0               Freser   0208 0208      Dimarts      Dm  Laboral   \n",
              "2     161407.0            Indústria   0336 0336     Dissabte      Ds  Laboral   \n",
              "3     226400.0  Las Navas de Tolosa   0343 0343    Divendres      Dv  Laboral   \n",
              "4      95506.0                Conca   0032 0034    Divendres      Dv  Laboral   \n",
              "\n",
              "   ...  hour  cyrcadian                  cause_incident  n_deaths  \\\n",
              "0  ...  12.0       Matí        No és causa del  vianant       0.0   \n",
              "1  ...  19.0      Tarda  Desobeir el senyal del semàfor       0.0   \n",
              "2  ...  21.0      Tarda        No és causa del  vianant       0.0   \n",
              "3  ...   9.0       Matí        No és causa del  vianant       0.0   \n",
              "4  ...  20.0      Tarda        No és causa del  vianant       0.0   \n",
              "\n",
              "   n_wounded_mild n_wounded_severe n_victims  n_vehicles  longitude  latitude  \n",
              "0             2.0              0.0       2.0         2.0        NaN       NaN  \n",
              "1             1.0              0.0       1.0         1.0        NaN       NaN  \n",
              "2             1.0              0.0       1.0         1.0        NaN       NaN  \n",
              "3             1.0              0.0       1.0         2.0        NaN       NaN  \n",
              "4             2.0              0.0       2.0         1.0        NaN       NaN  \n",
              "\n",
              "[5 rows x 24 columns]"
            ],
            "text/html": [
              "\n",
              "  <div id=\"df-294f72b8-3216-4e1b-afbd-67f6bff06358\">\n",
              "    <div class=\"colab-df-container\">\n",
              "      <div>\n",
              "<style scoped>\n",
              "    .dataframe tbody tr th:only-of-type {\n",
              "        vertical-align: middle;\n",
              "    }\n",
              "\n",
              "    .dataframe tbody tr th {\n",
              "        vertical-align: top;\n",
              "    }\n",
              "\n",
              "    .dataframe thead th {\n",
              "        text-align: right;\n",
              "    }\n",
              "</style>\n",
              "<table border=\"1\" class=\"dataframe\">\n",
              "  <thead>\n",
              "    <tr style=\"text-align: right;\">\n",
              "      <th></th>\n",
              "      <th>district_id</th>\n",
              "      <th>district_name</th>\n",
              "      <th>neighborhood_id</th>\n",
              "      <th>neighborhood_name</th>\n",
              "      <th>street_code</th>\n",
              "      <th>street_name</th>\n",
              "      <th>postal_code</th>\n",
              "      <th>weekday_name</th>\n",
              "      <th>weekday</th>\n",
              "      <th>type_day</th>\n",
              "      <th>...</th>\n",
              "      <th>hour</th>\n",
              "      <th>cyrcadian</th>\n",
              "      <th>cause_incident</th>\n",
              "      <th>n_deaths</th>\n",
              "      <th>n_wounded_mild</th>\n",
              "      <th>n_wounded_severe</th>\n",
              "      <th>n_victims</th>\n",
              "      <th>n_vehicles</th>\n",
              "      <th>longitude</th>\n",
              "      <th>latitude</th>\n",
              "    </tr>\n",
              "  </thead>\n",
              "  <tbody>\n",
              "    <tr>\n",
              "      <th>0</th>\n",
              "      <td>-1.0</td>\n",
              "      <td>Desconegut</td>\n",
              "      <td>-1.0</td>\n",
              "      <td>Desconegut</td>\n",
              "      <td>-1.0</td>\n",
              "      <td>Desconegut</td>\n",
              "      <td>Desconegut</td>\n",
              "      <td>Dimarts</td>\n",
              "      <td>Dm</td>\n",
              "      <td>Laboral</td>\n",
              "      <td>...</td>\n",
              "      <td>12.0</td>\n",
              "      <td>Matí</td>\n",
              "      <td>No és causa del  vianant</td>\n",
              "      <td>0.0</td>\n",
              "      <td>2.0</td>\n",
              "      <td>0.0</td>\n",
              "      <td>2.0</td>\n",
              "      <td>2.0</td>\n",
              "      <td>NaN</td>\n",
              "      <td>NaN</td>\n",
              "    </tr>\n",
              "    <tr>\n",
              "      <th>1</th>\n",
              "      <td>10.0</td>\n",
              "      <td>Sant Martí</td>\n",
              "      <td>64.0</td>\n",
              "      <td>el Camp de l'Arpa del Clot</td>\n",
              "      <td>134801.0</td>\n",
              "      <td>Freser</td>\n",
              "      <td>0208 0208</td>\n",
              "      <td>Dimarts</td>\n",
              "      <td>Dm</td>\n",
              "      <td>Laboral</td>\n",
              "      <td>...</td>\n",
              "      <td>19.0</td>\n",
              "      <td>Tarda</td>\n",
              "      <td>Desobeir el senyal del semàfor</td>\n",
              "      <td>0.0</td>\n",
              "      <td>1.0</td>\n",
              "      <td>0.0</td>\n",
              "      <td>1.0</td>\n",
              "      <td>1.0</td>\n",
              "      <td>NaN</td>\n",
              "      <td>NaN</td>\n",
              "    </tr>\n",
              "    <tr>\n",
              "      <th>2</th>\n",
              "      <td>10.0</td>\n",
              "      <td>Sant Martí</td>\n",
              "      <td>64.0</td>\n",
              "      <td>el Camp de l'Arpa del Clot</td>\n",
              "      <td>161407.0</td>\n",
              "      <td>Indústria</td>\n",
              "      <td>0336 0336</td>\n",
              "      <td>Dissabte</td>\n",
              "      <td>Ds</td>\n",
              "      <td>Laboral</td>\n",
              "      <td>...</td>\n",
              "      <td>21.0</td>\n",
              "      <td>Tarda</td>\n",
              "      <td>No és causa del  vianant</td>\n",
              "      <td>0.0</td>\n",
              "      <td>1.0</td>\n",
              "      <td>0.0</td>\n",
              "      <td>1.0</td>\n",
              "      <td>1.0</td>\n",
              "      <td>NaN</td>\n",
              "      <td>NaN</td>\n",
              "    </tr>\n",
              "    <tr>\n",
              "      <th>3</th>\n",
              "      <td>10.0</td>\n",
              "      <td>Sant Martí</td>\n",
              "      <td>64.0</td>\n",
              "      <td>el Camp de l'Arpa del Clot</td>\n",
              "      <td>226400.0</td>\n",
              "      <td>Las Navas de Tolosa</td>\n",
              "      <td>0343 0343</td>\n",
              "      <td>Divendres</td>\n",
              "      <td>Dv</td>\n",
              "      <td>Laboral</td>\n",
              "      <td>...</td>\n",
              "      <td>9.0</td>\n",
              "      <td>Matí</td>\n",
              "      <td>No és causa del  vianant</td>\n",
              "      <td>0.0</td>\n",
              "      <td>1.0</td>\n",
              "      <td>0.0</td>\n",
              "      <td>1.0</td>\n",
              "      <td>2.0</td>\n",
              "      <td>NaN</td>\n",
              "      <td>NaN</td>\n",
              "    </tr>\n",
              "    <tr>\n",
              "      <th>4</th>\n",
              "      <td>10.0</td>\n",
              "      <td>Sant Martí</td>\n",
              "      <td>64.0</td>\n",
              "      <td>el Camp de l'Arpa del Clot</td>\n",
              "      <td>95506.0</td>\n",
              "      <td>Conca</td>\n",
              "      <td>0032 0034</td>\n",
              "      <td>Divendres</td>\n",
              "      <td>Dv</td>\n",
              "      <td>Laboral</td>\n",
              "      <td>...</td>\n",
              "      <td>20.0</td>\n",
              "      <td>Tarda</td>\n",
              "      <td>No és causa del  vianant</td>\n",
              "      <td>0.0</td>\n",
              "      <td>2.0</td>\n",
              "      <td>0.0</td>\n",
              "      <td>2.0</td>\n",
              "      <td>1.0</td>\n",
              "      <td>NaN</td>\n",
              "      <td>NaN</td>\n",
              "    </tr>\n",
              "  </tbody>\n",
              "</table>\n",
              "<p>5 rows × 24 columns</p>\n",
              "</div>\n",
              "      <button class=\"colab-df-convert\" onclick=\"convertToInteractive('df-294f72b8-3216-4e1b-afbd-67f6bff06358')\"\n",
              "              title=\"Convert this dataframe to an interactive table.\"\n",
              "              style=\"display:none;\">\n",
              "        \n",
              "  <svg xmlns=\"http://www.w3.org/2000/svg\" height=\"24px\"viewBox=\"0 0 24 24\"\n",
              "       width=\"24px\">\n",
              "    <path d=\"M0 0h24v24H0V0z\" fill=\"none\"/>\n",
              "    <path d=\"M18.56 5.44l.94 2.06.94-2.06 2.06-.94-2.06-.94-.94-2.06-.94 2.06-2.06.94zm-11 1L8.5 8.5l.94-2.06 2.06-.94-2.06-.94L8.5 2.5l-.94 2.06-2.06.94zm10 10l.94 2.06.94-2.06 2.06-.94-2.06-.94-.94-2.06-.94 2.06-2.06.94z\"/><path d=\"M17.41 7.96l-1.37-1.37c-.4-.4-.92-.59-1.43-.59-.52 0-1.04.2-1.43.59L10.3 9.45l-7.72 7.72c-.78.78-.78 2.05 0 2.83L4 21.41c.39.39.9.59 1.41.59.51 0 1.02-.2 1.41-.59l7.78-7.78 2.81-2.81c.8-.78.8-2.07 0-2.86zM5.41 20L4 18.59l7.72-7.72 1.47 1.35L5.41 20z\"/>\n",
              "  </svg>\n",
              "      </button>\n",
              "      \n",
              "  <style>\n",
              "    .colab-df-container {\n",
              "      display:flex;\n",
              "      flex-wrap:wrap;\n",
              "      gap: 12px;\n",
              "    }\n",
              "\n",
              "    .colab-df-convert {\n",
              "      background-color: #E8F0FE;\n",
              "      border: none;\n",
              "      border-radius: 50%;\n",
              "      cursor: pointer;\n",
              "      display: none;\n",
              "      fill: #1967D2;\n",
              "      height: 32px;\n",
              "      padding: 0 0 0 0;\n",
              "      width: 32px;\n",
              "    }\n",
              "\n",
              "    .colab-df-convert:hover {\n",
              "      background-color: #E2EBFA;\n",
              "      box-shadow: 0px 1px 2px rgba(60, 64, 67, 0.3), 0px 1px 3px 1px rgba(60, 64, 67, 0.15);\n",
              "      fill: #174EA6;\n",
              "    }\n",
              "\n",
              "    [theme=dark] .colab-df-convert {\n",
              "      background-color: #3B4455;\n",
              "      fill: #D2E3FC;\n",
              "    }\n",
              "\n",
              "    [theme=dark] .colab-df-convert:hover {\n",
              "      background-color: #434B5C;\n",
              "      box-shadow: 0px 1px 3px 1px rgba(0, 0, 0, 0.15);\n",
              "      filter: drop-shadow(0px 1px 2px rgba(0, 0, 0, 0.3));\n",
              "      fill: #FFFFFF;\n",
              "    }\n",
              "  </style>\n",
              "\n",
              "      <script>\n",
              "        const buttonEl =\n",
              "          document.querySelector('#df-294f72b8-3216-4e1b-afbd-67f6bff06358 button.colab-df-convert');\n",
              "        buttonEl.style.display =\n",
              "          google.colab.kernel.accessAllowed ? 'block' : 'none';\n",
              "\n",
              "        async function convertToInteractive(key) {\n",
              "          const element = document.querySelector('#df-294f72b8-3216-4e1b-afbd-67f6bff06358');\n",
              "          const dataTable =\n",
              "            await google.colab.kernel.invokeFunction('convertToInteractive',\n",
              "                                                     [key], {});\n",
              "          if (!dataTable) return;\n",
              "\n",
              "          const docLinkHtml = 'Like what you see? Visit the ' +\n",
              "            '<a target=\"_blank\" href=https://colab.research.google.com/notebooks/data_table.ipynb>data table notebook</a>'\n",
              "            + ' to learn more about interactive tables.';\n",
              "          element.innerHTML = '';\n",
              "          dataTable['output_type'] = 'display_data';\n",
              "          await google.colab.output.renderOutput(dataTable, element);\n",
              "          const docLink = document.createElement('div');\n",
              "          docLink.innerHTML = docLinkHtml;\n",
              "          element.appendChild(docLink);\n",
              "        }\n",
              "      </script>\n",
              "    </div>\n",
              "  </div>\n",
              "  "
            ]
          },
          "metadata": {},
          "execution_count": 13
        }
      ]
    },
    {
      "cell_type": "code",
      "source": [
        "# Let us plot the distribution of a feature with continuous variables \n",
        "\n",
        "sns.distplot(dataset.hour)"
      ],
      "metadata": {
        "colab": {
          "base_uri": "https://localhost:8080/",
          "height": 350
        },
        "id": "VPU-37bN2yXG",
        "outputId": "1210ba14-4978-44a3-e09e-f18b02bf059c"
      },
      "execution_count": 14,
      "outputs": [
        {
          "output_type": "stream",
          "name": "stderr",
          "text": [
            "/usr/local/lib/python3.7/dist-packages/seaborn/distributions.py:2619: FutureWarning: `distplot` is a deprecated function and will be removed in a future version. Please adapt your code to use either `displot` (a figure-level function with similar flexibility) or `histplot` (an axes-level function for histograms).\n",
            "  warnings.warn(msg, FutureWarning)\n"
          ]
        },
        {
          "output_type": "execute_result",
          "data": {
            "text/plain": [
              "<matplotlib.axes._subplots.AxesSubplot at 0x7f77a4adf910>"
            ]
          },
          "metadata": {},
          "execution_count": 14
        },
        {
          "output_type": "display_data",
          "data": {
            "text/plain": [
              "<Figure size 432x288 with 1 Axes>"
            ],
            "image/png": "[encoded data removed]"
          },
          "metadata": {
            "needs_background": "light"
          }
        }
      ]
    },
    {
      "cell_type": "code",
      "source": [
        "dataset[\"hour\"].fillna(dataset[\"hour\"].mean(),inplace=True)"
      ],
      "metadata": {
        "id": "YzJccj284acr"
      },
      "execution_count": 15,
      "outputs": []
    },
    {
      "cell_type": "code",
      "source": [
        "sns.distplot(dataset.hour)"
      ],
      "metadata": {
        "colab": {
          "base_uri": "https://localhost:8080/",
          "height": 350
        },
        "id": "6FDD5SiH4ePH",
        "outputId": "7425ab17-8284-4bac-d9b8-37fe9f9b5446"
      },
      "execution_count": 16,
      "outputs": [
        {
          "output_type": "stream",
          "name": "stderr",
          "text": [
            "/usr/local/lib/python3.7/dist-packages/seaborn/distributions.py:2619: FutureWarning: `distplot` is a deprecated function and will be removed in a future version. Please adapt your code to use either `displot` (a figure-level function with similar flexibility) or `histplot` (an axes-level function for histograms).\n",
            "  warnings.warn(msg, FutureWarning)\n"
          ]
        },
        {
          "output_type": "execute_result",
          "data": {
            "text/plain": [
              "<matplotlib.axes._subplots.AxesSubplot at 0x7f77a2166910>"
            ]
          },
          "metadata": {},
          "execution_count": 16
        },
        {
          "output_type": "display_data",
          "data": {
            "text/plain": [
              "<Figure size 432x288 with 1 Axes>"
            ],
            "image/png": "[encoded data removed]"
          },
          "metadata": {
            "needs_background": "light"
          }
        }
      ]
    },
    {
      "cell_type": "markdown",
      "source": [
        "Well, as filling the missig values with their means doesnt change the distribution. We will be filling continuous features this way  "
      ],
      "metadata": {
        "id": "a9DD5JtM9Hs1"
      }
    },
    {
      "cell_type": "code",
      "source": [
        "for cols in dataset.columns:\n",
        "  if dataset[cols].isna().any() and type(dataset[cols][0])==np.float64:\n",
        "    dataset[cols].fillna(dataset[cols].mean(), inplace=True)"
      ],
      "metadata": {
        "id": "JaiFG67n5Tu3"
      },
      "execution_count": 17,
      "outputs": []
    },
    {
      "cell_type": "code",
      "source": [
        "# Checking for remaning missing values\n",
        "\n",
        "categorical_columns = []\n",
        "\n",
        "for col in dataset.columns:\n",
        "  if dataset[col].isna().any():\n",
        "    categorical_columns.append(col)\n",
        "\n",
        "print(categorical_columns)\n",
        "\n",
        "for col in categorical_columns:\n",
        "  dataset[col].fillna(dataset[col].value_counts().index[0], inplace=True)"
      ],
      "metadata": {
        "colab": {
          "base_uri": "https://localhost:8080/"
        },
        "id": "1TQ9q5Kt9ePz",
        "outputId": "332ac0bf-39de-47a5-d5ca-fdbdab069273"
      },
      "execution_count": 18,
      "outputs": [
        {
          "output_type": "stream",
          "name": "stdout",
          "text": [
            "['district_name', 'neighborhood_id', 'neighborhood_name', 'street_name', 'postal_code', 'weekday', 'type_day', 'month_name', 'cause_incident']\n"
          ]
        }
      ]
    },
    {
      "cell_type": "code",
      "source": [
        "dataset.isna().any()"
      ],
      "metadata": {
        "colab": {
          "base_uri": "https://localhost:8080/"
        },
        "id": "3x-wYUey9ftt",
        "outputId": "4964128c-39e2-4938-d399-9780fb3e86b7"
      },
      "execution_count": 19,
      "outputs": [
        {
          "output_type": "execute_result",
          "data": {
            "text/plain": [
              "district_id          False\n",
              "district_name        False\n",
              "neighborhood_id      False\n",
              "neighborhood_name    False\n",
              "street_code          False\n",
              "street_name          False\n",
              "postal_code          False\n",
              "weekday_name         False\n",
              "weekday              False\n",
              "type_day             False\n",
              "year                 False\n",
              "month                False\n",
              "month_name           False\n",
              "day                  False\n",
              "hour                 False\n",
              "cyrcadian            False\n",
              "cause_incident       False\n",
              "n_deaths             False\n",
              "n_wounded_mild       False\n",
              "n_wounded_severe     False\n",
              "n_victims            False\n",
              "n_vehicles           False\n",
              "longitude            False\n",
              "latitude             False\n",
              "dtype: bool"
            ]
          },
          "metadata": {},
          "execution_count": 19
        }
      ]
    },
    {
      "cell_type": "markdown",
      "source": [
        "### We have dealt with the missing values "
      ],
      "metadata": {
        "id": "-rneDvrK_oP5"
      }
    },
    {
      "cell_type": "code",
      "source": [
        "dataset.head()"
      ],
      "metadata": {
        "id": "PXwZIeT49x18",
        "colab": {
          "base_uri": "https://localhost:8080/",
          "height": 382
        },
        "outputId": "1996ac22-df04-48e2-a81d-c5ea4fd1cdfb"
      },
      "execution_count": 20,
      "outputs": [
        {
          "output_type": "execute_result",
          "data": {
            "text/plain": [
              "   district_id district_name neighborhood_id           neighborhood_name  \\\n",
              "0         -1.0    Desconegut            -1.0                  Desconegut   \n",
              "1         10.0    Sant Martí            64.0  el Camp de l'Arpa del Clot   \n",
              "2         10.0    Sant Martí            64.0  el Camp de l'Arpa del Clot   \n",
              "3         10.0    Sant Martí            64.0  el Camp de l'Arpa del Clot   \n",
              "4         10.0    Sant Martí            64.0  el Camp de l'Arpa del Clot   \n",
              "\n",
              "   street_code          street_name postal_code weekday_name weekday type_day  \\\n",
              "0         -1.0           Desconegut  Desconegut      Dimarts      Dm  Laboral   \n",
              "1     134801.0               Freser   0208 0208      Dimarts      Dm  Laboral   \n",
              "2     161407.0            Indústria   0336 0336     Dissabte      Ds  Laboral   \n",
              "3     226400.0  Las Navas de Tolosa   0343 0343    Divendres      Dv  Laboral   \n",
              "4      95506.0                Conca   0032 0034    Divendres      Dv  Laboral   \n",
              "\n",
              "   ...  hour  cyrcadian                  cause_incident  n_deaths  \\\n",
              "0  ...  12.0       Matí        No és causa del  vianant       0.0   \n",
              "1  ...  19.0      Tarda  Desobeir el senyal del semàfor       0.0   \n",
              "2  ...  21.0      Tarda        No és causa del  vianant       0.0   \n",
              "3  ...   9.0       Matí        No és causa del  vianant       0.0   \n",
              "4  ...  20.0      Tarda        No és causa del  vianant       0.0   \n",
              "\n",
              "   n_wounded_mild n_wounded_severe n_victims  n_vehicles  longitude   latitude  \n",
              "0             2.0              0.0       2.0         2.0   3.350592  60.405022  \n",
              "1             1.0              0.0       1.0         1.0   3.350592  60.405022  \n",
              "2             1.0              0.0       1.0         1.0   3.350592  60.405022  \n",
              "3             1.0              0.0       1.0         2.0   3.350592  60.405022  \n",
              "4             2.0              0.0       2.0         1.0   3.350592  60.405022  \n",
              "\n",
              "[5 rows x 24 columns]"
            ],
            "text/html": [
              "\n",
              "  <div id=\"df-438a0d82-7109-4f19-b418-7165d221f587\">\n",
              "    <div class=\"colab-df-container\">\n",
              "      <div>\n",
              "<style scoped>\n",
              "    .dataframe tbody tr th:only-of-type {\n",
              "        vertical-align: middle;\n",
              "    }\n",
              "\n",
              "    .dataframe tbody tr th {\n",
              "        vertical-align: top;\n",
              "    }\n",
              "\n",
              "    .dataframe thead th {\n",
              "        text-align: right;\n",
              "    }\n",
              "</style>\n",
              "<table border=\"1\" class=\"dataframe\">\n",
              "  <thead>\n",
              "    <tr style=\"text-align: right;\">\n",
              "      <th></th>\n",
              "      <th>district_id</th>\n",
              "      <th>district_name</th>\n",
              "      <th>neighborhood_id</th>\n",
              "      <th>neighborhood_name</th>\n",
              "      <th>street_code</th>\n",
              "      <th>street_name</th>\n",
              "      <th>postal_code</th>\n",
              "      <th>weekday_name</th>\n",
              "      <th>weekday</th>\n",
              "      <th>type_day</th>\n",
              "      <th>...</th>\n",
              "      <th>hour</th>\n",
              "      <th>cyrcadian</th>\n",
              "      <th>cause_incident</th>\n",
              "      <th>n_deaths</th>\n",
              "      <th>n_wounded_mild</th>\n",
              "      <th>n_wounded_severe</th>\n",
              "      <th>n_victims</th>\n",
              "      <th>n_vehicles</th>\n",
              "      <th>longitude</th>\n",
              "      <th>latitude</th>\n",
              "    </tr>\n",
              "  </thead>\n",
              "  <tbody>\n",
              "    <tr>\n",
              "      <th>0</th>\n",
              "      <td>-1.0</td>\n",
              "      <td>Desconegut</td>\n",
              "      <td>-1.0</td>\n",
              "      <td>Desconegut</td>\n",
              "      <td>-1.0</td>\n",
              "      <td>Desconegut</td>\n",
              "      <td>Desconegut</td>\n",
              "      <td>Dimarts</td>\n",
              "      <td>Dm</td>\n",
              "      <td>Laboral</td>\n",
              "      <td>...</td>\n",
              "      <td>12.0</td>\n",
              "      <td>Matí</td>\n",
              "      <td>No és causa del  vianant</td>\n",
              "      <td>0.0</td>\n",
              "      <td>2.0</td>\n",
              "      <td>0.0</td>\n",
              "      <td>2.0</td>\n",
              "      <td>2.0</td>\n",
              "      <td>3.350592</td>\n",
              "      <td>60.405022</td>\n",
              "    </tr>\n",
              "    <tr>\n",
              "      <th>1</th>\n",
              "      <td>10.0</td>\n",
              "      <td>Sant Martí</td>\n",
              "      <td>64.0</td>\n",
              "      <td>el Camp de l'Arpa del Clot</td>\n",
              "      <td>134801.0</td>\n",
              "      <td>Freser</td>\n",
              "      <td>0208 0208</td>\n",
              "      <td>Dimarts</td>\n",
              "      <td>Dm</td>\n",
              "      <td>Laboral</td>\n",
              "      <td>...</td>\n",
              "      <td>19.0</td>\n",
              "      <td>Tarda</td>\n",
              "      <td>Desobeir el senyal del semàfor</td>\n",
              "      <td>0.0</td>\n",
              "      <td>1.0</td>\n",
              "      <td>0.0</td>\n",
              "      <td>1.0</td>\n",
              "      <td>1.0</td>\n",
              "      <td>3.350592</td>\n",
              "      <td>60.405022</td>\n",
              "    </tr>\n",
              "    <tr>\n",
              "      <th>2</th>\n",
              "      <td>10.0</td>\n",
              "      <td>Sant Martí</td>\n",
              "      <td>64.0</td>\n",
              "      <td>el Camp de l'Arpa del Clot</td>\n",
              "      <td>161407.0</td>\n",
              "      <td>Indústria</td>\n",
              "      <td>0336 0336</td>\n",
              "      <td>Dissabte</td>\n",
              "      <td>Ds</td>\n",
              "      <td>Laboral</td>\n",
              "      <td>...</td>\n",
              "      <td>21.0</td>\n",
              "      <td>Tarda</td>\n",
              "      <td>No és causa del  vianant</td>\n",
              "      <td>0.0</td>\n",
              "      <td>1.0</td>\n",
              "      <td>0.0</td>\n",
              "      <td>1.0</td>\n",
              "      <td>1.0</td>\n",
              "      <td>3.350592</td>\n",
              "      <td>60.405022</td>\n",
              "    </tr>\n",
              "    <tr>\n",
              "      <th>3</th>\n",
              "      <td>10.0</td>\n",
              "      <td>Sant Martí</td>\n",
              "      <td>64.0</td>\n",
              "      <td>el Camp de l'Arpa del Clot</td>\n",
              "      <td>226400.0</td>\n",
              "      <td>Las Navas de Tolosa</td>\n",
              "      <td>0343 0343</td>\n",
              "      <td>Divendres</td>\n",
              "      <td>Dv</td>\n",
              "      <td>Laboral</td>\n",
              "      <td>...</td>\n",
              "      <td>9.0</td>\n",
              "      <td>Matí</td>\n",
              "      <td>No és causa del  vianant</td>\n",
              "      <td>0.0</td>\n",
              "      <td>1.0</td>\n",
              "      <td>0.0</td>\n",
              "      <td>1.0</td>\n",
              "      <td>2.0</td>\n",
              "      <td>3.350592</td>\n",
              "      <td>60.405022</td>\n",
              "    </tr>\n",
              "    <tr>\n",
              "      <th>4</th>\n",
              "      <td>10.0</td>\n",
              "      <td>Sant Martí</td>\n",
              "      <td>64.0</td>\n",
              "      <td>el Camp de l'Arpa del Clot</td>\n",
              "      <td>95506.0</td>\n",
              "      <td>Conca</td>\n",
              "      <td>0032 0034</td>\n",
              "      <td>Divendres</td>\n",
              "      <td>Dv</td>\n",
              "      <td>Laboral</td>\n",
              "      <td>...</td>\n",
              "      <td>20.0</td>\n",
              "      <td>Tarda</td>\n",
              "      <td>No és causa del  vianant</td>\n",
              "      <td>0.0</td>\n",
              "      <td>2.0</td>\n",
              "      <td>0.0</td>\n",
              "      <td>2.0</td>\n",
              "      <td>1.0</td>\n",
              "      <td>3.350592</td>\n",
              "      <td>60.405022</td>\n",
              "    </tr>\n",
              "  </tbody>\n",
              "</table>\n",
              "<p>5 rows × 24 columns</p>\n",
              "</div>\n",
              "      <button class=\"colab-df-convert\" onclick=\"convertToInteractive('df-438a0d82-7109-4f19-b418-7165d221f587')\"\n",
              "              title=\"Convert this dataframe to an interactive table.\"\n",
              "              style=\"display:none;\">\n",
              "        \n",
              "  <svg xmlns=\"http://www.w3.org/2000/svg\" height=\"24px\"viewBox=\"0 0 24 24\"\n",
              "       width=\"24px\">\n",
              "    <path d=\"M0 0h24v24H0V0z\" fill=\"none\"/>\n",
              "    <path d=\"M18.56 5.44l.94 2.06.94-2.06 2.06-.94-2.06-.94-.94-2.06-.94 2.06-2.06.94zm-11 1L8.5 8.5l.94-2.06 2.06-.94-2.06-.94L8.5 2.5l-.94 2.06-2.06.94zm10 10l.94 2.06.94-2.06 2.06-.94-2.06-.94-.94-2.06-.94 2.06-2.06.94z\"/><path d=\"M17.41 7.96l-1.37-1.37c-.4-.4-.92-.59-1.43-.59-.52 0-1.04.2-1.43.59L10.3 9.45l-7.72 7.72c-.78.78-.78 2.05 0 2.83L4 21.41c.39.39.9.59 1.41.59.51 0 1.02-.2 1.41-.59l7.78-7.78 2.81-2.81c.8-.78.8-2.07 0-2.86zM5.41 20L4 18.59l7.72-7.72 1.47 1.35L5.41 20z\"/>\n",
              "  </svg>\n",
              "      </button>\n",
              "      \n",
              "  <style>\n",
              "    .colab-df-container {\n",
              "      display:flex;\n",
              "      flex-wrap:wrap;\n",
              "      gap: 12px;\n",
              "    }\n",
              "\n",
              "    .colab-df-convert {\n",
              "      background-color: #E8F0FE;\n",
              "      border: none;\n",
              "      border-radius: 50%;\n",
              "      cursor: pointer;\n",
              "      display: none;\n",
              "      fill: #1967D2;\n",
              "      height: 32px;\n",
              "      padding: 0 0 0 0;\n",
              "      width: 32px;\n",
              "    }\n",
              "\n",
              "    .colab-df-convert:hover {\n",
              "      background-color: #E2EBFA;\n",
              "      box-shadow: 0px 1px 2px rgba(60, 64, 67, 0.3), 0px 1px 3px 1px rgba(60, 64, 67, 0.15);\n",
              "      fill: #174EA6;\n",
              "    }\n",
              "\n",
              "    [theme=dark] .colab-df-convert {\n",
              "      background-color: #3B4455;\n",
              "      fill: #D2E3FC;\n",
              "    }\n",
              "\n",
              "    [theme=dark] .colab-df-convert:hover {\n",
              "      background-color: #434B5C;\n",
              "      box-shadow: 0px 1px 3px 1px rgba(0, 0, 0, 0.15);\n",
              "      filter: drop-shadow(0px 1px 2px rgba(0, 0, 0, 0.3));\n",
              "      fill: #FFFFFF;\n",
              "    }\n",
              "  </style>\n",
              "\n",
              "      <script>\n",
              "        const buttonEl =\n",
              "          document.querySelector('#df-438a0d82-7109-4f19-b418-7165d221f587 button.colab-df-convert');\n",
              "        buttonEl.style.display =\n",
              "          google.colab.kernel.accessAllowed ? 'block' : 'none';\n",
              "\n",
              "        async function convertToInteractive(key) {\n",
              "          const element = document.querySelector('#df-438a0d82-7109-4f19-b418-7165d221f587');\n",
              "          const dataTable =\n",
              "            await google.colab.kernel.invokeFunction('convertToInteractive',\n",
              "                                                     [key], {});\n",
              "          if (!dataTable) return;\n",
              "\n",
              "          const docLinkHtml = 'Like what you see? Visit the ' +\n",
              "            '<a target=\"_blank\" href=https://colab.research.google.com/notebooks/data_table.ipynb>data table notebook</a>'\n",
              "            + ' to learn more about interactive tables.';\n",
              "          element.innerHTML = '';\n",
              "          dataTable['output_type'] = 'display_data';\n",
              "          await google.colab.output.renderOutput(dataTable, element);\n",
              "          const docLink = document.createElement('div');\n",
              "          docLink.innerHTML = docLinkHtml;\n",
              "          element.appendChild(docLink);\n",
              "        }\n",
              "      </script>\n",
              "    </div>\n",
              "  </div>\n",
              "  "
            ]
          },
          "metadata": {},
          "execution_count": 20
        }
      ]
    },
    {
      "cell_type": "code",
      "source": [
        "categorical_columns"
      ],
      "metadata": {
        "colab": {
          "base_uri": "https://localhost:8080/"
        },
        "id": "C8a0uApJD7-V",
        "outputId": "71c8f299-d310-4fa8-dbd0-d487f1796741"
      },
      "execution_count": 21,
      "outputs": [
        {
          "output_type": "execute_result",
          "data": {
            "text/plain": [
              "['district_name',\n",
              " 'neighborhood_id',\n",
              " 'neighborhood_name',\n",
              " 'street_name',\n",
              " 'postal_code',\n",
              " 'weekday',\n",
              " 'type_day',\n",
              " 'month_name',\n",
              " 'cause_incident']"
            ]
          },
          "metadata": {},
          "execution_count": 21
        }
      ]
    },
    {
      "cell_type": "code",
      "source": [
        "# Removing some feature names from the list as they seem irrelevant \n",
        "\n",
        "categorical_columns.remove('neighborhood_id')\n",
        "categorical_columns.remove('postal_code')"
      ],
      "metadata": {
        "id": "ihKVWjbkEFwm"
      },
      "execution_count": 22,
      "outputs": []
    },
    {
      "cell_type": "code",
      "source": [
        "# Let us check the value_counts for categorical columns \n",
        "\n",
        "for cols in categorical_columns:\n",
        "  print(dataset[cols].value_counts(),\"\\n\")\n"
      ],
      "metadata": {
        "colab": {
          "base_uri": "https://localhost:8080/"
        },
        "id": "F4a2wNx9CqcH",
        "outputId": "b5fd3b81-d24e-4937-9a62-68babff9f1ce"
      },
      "execution_count": 23,
      "outputs": [
        {
          "output_type": "stream",
          "name": "stdout",
          "text": [
            "Eixample               32260\n",
            "Sant Martí             13359\n",
            "Sarrià-Sant Gervasi    12308\n",
            "Sants-Montjuïc         11976\n",
            "Horta-Guinardó          7954\n",
            "Les Corts               7689\n",
            "Sant Andreu             7022\n",
            "Ciutat Vella            6293\n",
            "Nou Barris              5968\n",
            "Gràcia                  5603\n",
            "Desconegut               223\n",
            "Name: district_name, dtype: int64 \n",
            "\n",
            "la Dreta de l'Eixample             12355\n",
            "l'Antiga Esquerra de l'Eixample     6073\n",
            "Sant Gervasi - Galvany              4633\n",
            "la Nova Esquerra de l'Eixample      4275\n",
            "la Sagrada Família                  3829\n",
            "                                   ...  \n",
            "la Clota                             176\n",
            "Ciutat Meridiana                     143\n",
            "Torre Baró                           128\n",
            "Vallbona                              77\n",
            "Can Peguera                           75\n",
            "Name: neighborhood_name, Length: 75, dtype: int64 \n",
            "\n",
            "Corts Catalanes                                       4148\n",
            "Diagonal                                              3454\n",
            "Aragó                                                 2149\n",
            "Litoral (Llobregat)                                   1498\n",
            "Meridiana                                             1479\n",
            "                                                      ... \n",
            "AV ESTATUT CATALUN / Carles Collet                       1\n",
            "CAMPOAMOR / Venècia                                      1\n",
            "Consorts Sans Bernet / Palafox                           1\n",
            "Berruguete / Vall d'Hebron                               1\n",
            "Joaquim Molins                                           1\n",
            "Name: street_name, Length: 9463, dtype: int64 \n",
            "\n",
            "5     16754\n",
            "4      8645\n",
            "Dv     8576\n",
            "3      8564\n",
            "Dj     8276\n",
            "Dc     8227\n",
            "2      8207\n",
            "Dm     8051\n",
            "1      8049\n",
            "Dl     7534\n",
            "6      5682\n",
            "Ds     5520\n",
            "7      4304\n",
            "Dg     4266\n",
            "Name: weekday, dtype: int64 \n",
            "\n",
            "Laboral    110655\n",
            "Name: type_day, dtype: int64 \n",
            "\n",
            "Octubre     10069\n",
            "Juliol       9909\n",
            "Novembre     9822\n",
            "Maig         9585\n",
            "Juny         9545\n",
            "Desembre     9526\n",
            "Març         9462\n",
            "Febrer       9149\n",
            "Gener        9053\n",
            "Setembre     8870\n",
            "Abril        8698\n",
            "Agost        6967\n",
            "Name: month_name, dtype: int64 \n",
            "\n",
            "No és causa del  vianant           54524\n",
            "Desconegut                         49462\n",
            "Creuar per fora pas de vianants     2477\n",
            "Desobeir el senyal del semàfor      2467\n",
            "Altres                              1196\n",
            "Transitar a peu per la calçada       493\n",
            "Desobeir altres senyals               36\n",
            "Name: cause_incident, dtype: int64 \n",
            "\n"
          ]
        }
      ]
    },
    {
      "cell_type": "code",
      "source": [
        "district_count = sns.barplot(dataset['district_name'].value_counts().index,dataset['district_name'].value_counts())\n",
        "sns.set(rc = {'figure.figsize':(20,14)})\n",
        "district_count.set_xlabel(\"DISTRICT NAME\")\n",
        "district_count.set_ylabel(\"COUNT\")"
      ],
      "metadata": {
        "colab": {
          "base_uri": "https://localhost:8080/",
          "height": 682
        },
        "id": "tN3mL4MFCqfM",
        "outputId": "8883e6f9-81bc-4f68-aaab-a6b7440412e4"
      },
      "execution_count": 30,
      "outputs": [
        {
          "output_type": "stream",
          "name": "stderr",
          "text": [
            "/usr/local/lib/python3.7/dist-packages/seaborn/_decorators.py:43: FutureWarning: Pass the following variables as keyword args: x, y. From version 0.12, the only valid positional argument will be `data`, and passing other arguments without an explicit keyword will result in an error or misinterpretation.\n",
            "  FutureWarning\n"
          ]
        },
        {
          "output_type": "execute_result",
          "data": {
            "text/plain": [
              "Text(0, 0.5, 'COUNT')"
            ]
          },
          "metadata": {},
          "execution_count": 30
        },
        {
          "output_type": "display_data",
          "data": {
            "text/plain": [
              "<Figure size 1440x720 with 1 Axes>"
            ],
            "image/png": "[encoded data removed]"
          },
          "metadata": {}
        }
      ]
    },
    {
      "cell_type": "markdown",
      "source": [
        "## Observation \n",
        "\n",
        "\n",
        "--> We can see that highest number of accidents occured in the district of Eixample and the lowest in Desconegut.\n",
        "\n",
        "\n",
        "--> We can also note that the accidents in Eixample are significantly high when compared to rest of the districts where accidents follow a similar range. "
      ],
      "metadata": {
        "id": "IDzqMf2RI8PN"
      }
    },
    {
      "cell_type": "code",
      "source": [
        "month_count = sns.barplot(dataset['month_name'].value_counts().index,dataset['month_name'].value_counts())\n",
        "sns.set(rc= {'figure.figsize':(12,8)})\n",
        "month_count.set_xlabel(\"MONTH NAME \")\n",
        "month_count.set_ylabel(\"COUNT\")"
      ],
      "metadata": {
        "colab": {
          "base_uri": "https://localhost:8080/",
          "height": 573
        },
        "id": "a4lk4ShkCqiV",
        "outputId": "628f0a81-0063-482f-d89b-bccb4ca54157"
      },
      "execution_count": 46,
      "outputs": [
        {
          "output_type": "stream",
          "name": "stderr",
          "text": [
            "/usr/local/lib/python3.7/dist-packages/seaborn/_decorators.py:43: FutureWarning: Pass the following variables as keyword args: x, y. From version 0.12, the only valid positional argument will be `data`, and passing other arguments without an explicit keyword will result in an error or misinterpretation.\n",
            "  FutureWarning\n"
          ]
        },
        {
          "output_type": "execute_result",
          "data": {
            "text/plain": [
              "Text(0, 0.5, 'COUNT')"
            ]
          },
          "metadata": {},
          "execution_count": 46
        },
        {
          "output_type": "display_data",
          "data": {
            "text/plain": [
              "<Figure size 864x576 with 1 Axes>"
            ],
            "image/png": "[encoded data removed]"
          },
          "metadata": {}
        }
      ]
    },
    {
      "cell_type": "markdown",
      "source": [
        "## Observation \n",
        "\n",
        "We can notice that August is the month with least number of accidents. The other month almost follow a similar pattern with marginal differneces. So, we can say that there is not much of a significance to a particular month. "
      ],
      "metadata": {
        "id": "eWlfGBGlL7Gd"
      }
    },
    {
      "cell_type": "code",
      "source": [
        "plt.pie(dataset[dataset[\"district_name\"]==\"Eixample\"]['neighborhood_name'].value_counts(),labels=dataset[dataset[\"district_name\"]==\"Eixample\"]['neighborhood_name'].value_counts().index)"
      ],
      "metadata": {
        "id": "FWb5vwSnCqlc",
        "colab": {
          "base_uri": "https://localhost:8080/",
          "height": 670
        },
        "outputId": "c9e3c446-e625-40c9-d85d-b4532cb0eadc"
      },
      "execution_count": 33,
      "outputs": [
        {
          "output_type": "execute_result",
          "data": {
            "text/plain": [
              "([<matplotlib.patches.Wedge at 0x7f77a1570090>,\n",
              "  <matplotlib.patches.Wedge at 0x7f77a15704d0>,\n",
              "  <matplotlib.patches.Wedge at 0x7f77a1570490>,\n",
              "  <matplotlib.patches.Wedge at 0x7f77a1577110>,\n",
              "  <matplotlib.patches.Wedge at 0x7f77a1577390>,\n",
              "  <matplotlib.patches.Wedge at 0x7f77a1577f50>],\n",
              " [Text(0.3953379332619167, 1.0265027610894168, \"la Dreta de l'Eixample\"),\n",
              "  Text(-1.0886408444197992, 0.15767406844800577, \"l'Antiga Esquerra de l'Eixample\"),\n",
              "  Text(-0.7144335989747949, -0.8364117602329144, \"la Nova Esquerra de l'Eixample\"),\n",
              "  Text(0.0904158565432175, -1.09627778089568, 'la Sagrada Família'),\n",
              "  Text(0.7573324679066236, -0.7977766185182811, 'el Fort Pienc'),\n",
              "  Text(1.0648207065036313, -0.27596532934611134, 'Sant Antoni')])"
            ]
          },
          "metadata": {},
          "execution_count": 33
        },
        {
          "output_type": "display_data",
          "data": {
            "text/plain": [
              "<Figure size 864x576 with 1 Axes>"
            ],
            "image/png": "[encoded data removed]"
          },
          "metadata": {}
        }
      ]
    },
    {
      "cell_type": "markdown",
      "source": [
        "## Observation :\n",
        "\n",
        "Most accidents have occured at la Dreta de I'Eixample neighborhood of Eixample district "
      ],
      "metadata": {
        "id": "3dllEcQXS4mP"
      }
    },
    {
      "cell_type": "code",
      "source": [
        "# Percentage of accidents in each district \n",
        "\n",
        "(dataset[\"district_name\"].value_counts()/len(dataset))*100"
      ],
      "metadata": {
        "id": "IYTu1wKSDy2P",
        "colab": {
          "base_uri": "https://localhost:8080/"
        },
        "outputId": "7f57faab-b5c9-486f-baaa-afacde80837e"
      },
      "execution_count": 34,
      "outputs": [
        {
          "output_type": "execute_result",
          "data": {
            "text/plain": [
              "Eixample               29.153676\n",
              "Sant Martí             12.072658\n",
              "Sarrià-Sant Gervasi    11.122859\n",
              "Sants-Montjuïc         10.822828\n",
              "Horta-Guinardó          7.188107\n",
              "Les Corts               6.948624\n",
              "Sant Andreu             6.345850\n",
              "Ciutat Vella            5.687045\n",
              "Nou Barris              5.393340\n",
              "Gràcia                  5.063486\n",
              "Desconegut              0.201527\n",
              "Name: district_name, dtype: float64"
            ]
          },
          "metadata": {},
          "execution_count": 34
        }
      ]
    },
    {
      "cell_type": "code",
      "source": [
        "dataset.head()"
      ],
      "metadata": {
        "id": "Biqkb3FUCqol",
        "colab": {
          "base_uri": "https://localhost:8080/",
          "height": 382
        },
        "outputId": "1d032b8d-1ebf-4773-b7fa-bc51dd0ec38d"
      },
      "execution_count": 35,
      "outputs": [
        {
          "output_type": "execute_result",
          "data": {
            "text/plain": [
              "   district_id district_name neighborhood_id           neighborhood_name  \\\n",
              "0         -1.0    Desconegut            -1.0                  Desconegut   \n",
              "1         10.0    Sant Martí            64.0  el Camp de l'Arpa del Clot   \n",
              "2         10.0    Sant Martí            64.0  el Camp de l'Arpa del Clot   \n",
              "3         10.0    Sant Martí            64.0  el Camp de l'Arpa del Clot   \n",
              "4         10.0    Sant Martí            64.0  el Camp de l'Arpa del Clot   \n",
              "\n",
              "   street_code          street_name postal_code weekday_name weekday type_day  \\\n",
              "0         -1.0           Desconegut  Desconegut      Dimarts      Dm  Laboral   \n",
              "1     134801.0               Freser   0208 0208      Dimarts      Dm  Laboral   \n",
              "2     161407.0            Indústria   0336 0336     Dissabte      Ds  Laboral   \n",
              "3     226400.0  Las Navas de Tolosa   0343 0343    Divendres      Dv  Laboral   \n",
              "4      95506.0                Conca   0032 0034    Divendres      Dv  Laboral   \n",
              "\n",
              "   ...  hour  cyrcadian                  cause_incident  n_deaths  \\\n",
              "0  ...  12.0       Matí        No és causa del  vianant       0.0   \n",
              "1  ...  19.0      Tarda  Desobeir el senyal del semàfor       0.0   \n",
              "2  ...  21.0      Tarda        No és causa del  vianant       0.0   \n",
              "3  ...   9.0       Matí        No és causa del  vianant       0.0   \n",
              "4  ...  20.0      Tarda        No és causa del  vianant       0.0   \n",
              "\n",
              "   n_wounded_mild n_wounded_severe n_victims  n_vehicles  longitude   latitude  \n",
              "0             2.0              0.0       2.0         2.0   3.350592  60.405022  \n",
              "1             1.0              0.0       1.0         1.0   3.350592  60.405022  \n",
              "2             1.0              0.0       1.0         1.0   3.350592  60.405022  \n",
              "3             1.0              0.0       1.0         2.0   3.350592  60.405022  \n",
              "4             2.0              0.0       2.0         1.0   3.350592  60.405022  \n",
              "\n",
              "[5 rows x 24 columns]"
            ],
            "text/html": [
              "\n",
              "  <div id=\"df-ee95b093-b452-40df-b137-9602569e9c03\">\n",
              "    <div class=\"colab-df-container\">\n",
              "      <div>\n",
              "<style scoped>\n",
              "    .dataframe tbody tr th:only-of-type {\n",
              "        vertical-align: middle;\n",
              "    }\n",
              "\n",
              "    .dataframe tbody tr th {\n",
              "        vertical-align: top;\n",
              "    }\n",
              "\n",
              "    .dataframe thead th {\n",
              "        text-align: right;\n",
              "    }\n",
              "</style>\n",
              "<table border=\"1\" class=\"dataframe\">\n",
              "  <thead>\n",
              "    <tr style=\"text-align: right;\">\n",
              "      <th></th>\n",
              "      <th>district_id</th>\n",
              "      <th>district_name</th>\n",
              "      <th>neighborhood_id</th>\n",
              "      <th>neighborhood_name</th>\n",
              "      <th>street_code</th>\n",
              "      <th>street_name</th>\n",
              "      <th>postal_code</th>\n",
              "      <th>weekday_name</th>\n",
              "      <th>weekday</th>\n",
              "      <th>type_day</th>\n",
              "      <th>...</th>\n",
              "      <th>hour</th>\n",
              "      <th>cyrcadian</th>\n",
              "      <th>cause_incident</th>\n",
              "      <th>n_deaths</th>\n",
              "      <th>n_wounded_mild</th>\n",
              "      <th>n_wounded_severe</th>\n",
              "      <th>n_victims</th>\n",
              "      <th>n_vehicles</th>\n",
              "      <th>longitude</th>\n",
              "      <th>latitude</th>\n",
              "    </tr>\n",
              "  </thead>\n",
              "  <tbody>\n",
              "    <tr>\n",
              "      <th>0</th>\n",
              "      <td>-1.0</td>\n",
              "      <td>Desconegut</td>\n",
              "      <td>-1.0</td>\n",
              "      <td>Desconegut</td>\n",
              "      <td>-1.0</td>\n",
              "      <td>Desconegut</td>\n",
              "      <td>Desconegut</td>\n",
              "      <td>Dimarts</td>\n",
              "      <td>Dm</td>\n",
              "      <td>Laboral</td>\n",
              "      <td>...</td>\n",
              "      <td>12.0</td>\n",
              "      <td>Matí</td>\n",
              "      <td>No és causa del  vianant</td>\n",
              "      <td>0.0</td>\n",
              "      <td>2.0</td>\n",
              "      <td>0.0</td>\n",
              "      <td>2.0</td>\n",
              "      <td>2.0</td>\n",
              "      <td>3.350592</td>\n",
              "      <td>60.405022</td>\n",
              "    </tr>\n",
              "    <tr>\n",
              "      <th>1</th>\n",
              "      <td>10.0</td>\n",
              "      <td>Sant Martí</td>\n",
              "      <td>64.0</td>\n",
              "      <td>el Camp de l'Arpa del Clot</td>\n",
              "      <td>134801.0</td>\n",
              "      <td>Freser</td>\n",
              "      <td>0208 0208</td>\n",
              "      <td>Dimarts</td>\n",
              "      <td>Dm</td>\n",
              "      <td>Laboral</td>\n",
              "      <td>...</td>\n",
              "      <td>19.0</td>\n",
              "      <td>Tarda</td>\n",
              "      <td>Desobeir el senyal del semàfor</td>\n",
              "      <td>0.0</td>\n",
              "      <td>1.0</td>\n",
              "      <td>0.0</td>\n",
              "      <td>1.0</td>\n",
              "      <td>1.0</td>\n",
              "      <td>3.350592</td>\n",
              "      <td>60.405022</td>\n",
              "    </tr>\n",
              "    <tr>\n",
              "      <th>2</th>\n",
              "      <td>10.0</td>\n",
              "      <td>Sant Martí</td>\n",
              "      <td>64.0</td>\n",
              "      <td>el Camp de l'Arpa del Clot</td>\n",
              "      <td>161407.0</td>\n",
              "      <td>Indústria</td>\n",
              "      <td>0336 0336</td>\n",
              "      <td>Dissabte</td>\n",
              "      <td>Ds</td>\n",
              "      <td>Laboral</td>\n",
              "      <td>...</td>\n",
              "      <td>21.0</td>\n",
              "      <td>Tarda</td>\n",
              "      <td>No és causa del  vianant</td>\n",
              "      <td>0.0</td>\n",
              "      <td>1.0</td>\n",
              "      <td>0.0</td>\n",
              "      <td>1.0</td>\n",
              "      <td>1.0</td>\n",
              "      <td>3.350592</td>\n",
              "      <td>60.405022</td>\n",
              "    </tr>\n",
              "    <tr>\n",
              "      <th>3</th>\n",
              "      <td>10.0</td>\n",
              "      <td>Sant Martí</td>\n",
              "      <td>64.0</td>\n",
              "      <td>el Camp de l'Arpa del Clot</td>\n",
              "      <td>226400.0</td>\n",
              "      <td>Las Navas de Tolosa</td>\n",
              "      <td>0343 0343</td>\n",
              "      <td>Divendres</td>\n",
              "      <td>Dv</td>\n",
              "      <td>Laboral</td>\n",
              "      <td>...</td>\n",
              "      <td>9.0</td>\n",
              "      <td>Matí</td>\n",
              "      <td>No és causa del  vianant</td>\n",
              "      <td>0.0</td>\n",
              "      <td>1.0</td>\n",
              "      <td>0.0</td>\n",
              "      <td>1.0</td>\n",
              "      <td>2.0</td>\n",
              "      <td>3.350592</td>\n",
              "      <td>60.405022</td>\n",
              "    </tr>\n",
              "    <tr>\n",
              "      <th>4</th>\n",
              "      <td>10.0</td>\n",
              "      <td>Sant Martí</td>\n",
              "      <td>64.0</td>\n",
              "      <td>el Camp de l'Arpa del Clot</td>\n",
              "      <td>95506.0</td>\n",
              "      <td>Conca</td>\n",
              "      <td>0032 0034</td>\n",
              "      <td>Divendres</td>\n",
              "      <td>Dv</td>\n",
              "      <td>Laboral</td>\n",
              "      <td>...</td>\n",
              "      <td>20.0</td>\n",
              "      <td>Tarda</td>\n",
              "      <td>No és causa del  vianant</td>\n",
              "      <td>0.0</td>\n",
              "      <td>2.0</td>\n",
              "      <td>0.0</td>\n",
              "      <td>2.0</td>\n",
              "      <td>1.0</td>\n",
              "      <td>3.350592</td>\n",
              "      <td>60.405022</td>\n",
              "    </tr>\n",
              "  </tbody>\n",
              "</table>\n",
              "<p>5 rows × 24 columns</p>\n",
              "</div>\n",
              "      <button class=\"colab-df-convert\" onclick=\"convertToInteractive('df-ee95b093-b452-40df-b137-9602569e9c03')\"\n",
              "              title=\"Convert this dataframe to an interactive table.\"\n",
              "              style=\"display:none;\">\n",
              "        \n",
              "  <svg xmlns=\"http://www.w3.org/2000/svg\" height=\"24px\"viewBox=\"0 0 24 24\"\n",
              "       width=\"24px\">\n",
              "    <path d=\"M0 0h24v24H0V0z\" fill=\"none\"/>\n",
              "    <path d=\"M18.56 5.44l.94 2.06.94-2.06 2.06-.94-2.06-.94-.94-2.06-.94 2.06-2.06.94zm-11 1L8.5 8.5l.94-2.06 2.06-.94-2.06-.94L8.5 2.5l-.94 2.06-2.06.94zm10 10l.94 2.06.94-2.06 2.06-.94-2.06-.94-.94-2.06-.94 2.06-2.06.94z\"/><path d=\"M17.41 7.96l-1.37-1.37c-.4-.4-.92-.59-1.43-.59-.52 0-1.04.2-1.43.59L10.3 9.45l-7.72 7.72c-.78.78-.78 2.05 0 2.83L4 21.41c.39.39.9.59 1.41.59.51 0 1.02-.2 1.41-.59l7.78-7.78 2.81-2.81c.8-.78.8-2.07 0-2.86zM5.41 20L4 18.59l7.72-7.72 1.47 1.35L5.41 20z\"/>\n",
              "  </svg>\n",
              "      </button>\n",
              "      \n",
              "  <style>\n",
              "    .colab-df-container {\n",
              "      display:flex;\n",
              "      flex-wrap:wrap;\n",
              "      gap: 12px;\n",
              "    }\n",
              "\n",
              "    .colab-df-convert {\n",
              "      background-color: #E8F0FE;\n",
              "      border: none;\n",
              "      border-radius: 50%;\n",
              "      cursor: pointer;\n",
              "      display: none;\n",
              "      fill: #1967D2;\n",
              "      height: 32px;\n",
              "      padding: 0 0 0 0;\n",
              "      width: 32px;\n",
              "    }\n",
              "\n",
              "    .colab-df-convert:hover {\n",
              "      background-color: #E2EBFA;\n",
              "      box-shadow: 0px 1px 2px rgba(60, 64, 67, 0.3), 0px 1px 3px 1px rgba(60, 64, 67, 0.15);\n",
              "      fill: #174EA6;\n",
              "    }\n",
              "\n",
              "    [theme=dark] .colab-df-convert {\n",
              "      background-color: #3B4455;\n",
              "      fill: #D2E3FC;\n",
              "    }\n",
              "\n",
              "    [theme=dark] .colab-df-convert:hover {\n",
              "      background-color: #434B5C;\n",
              "      box-shadow: 0px 1px 3px 1px rgba(0, 0, 0, 0.15);\n",
              "      filter: drop-shadow(0px 1px 2px rgba(0, 0, 0, 0.3));\n",
              "      fill: #FFFFFF;\n",
              "    }\n",
              "  </style>\n",
              "\n",
              "      <script>\n",
              "        const buttonEl =\n",
              "          document.querySelector('#df-ee95b093-b452-40df-b137-9602569e9c03 button.colab-df-convert');\n",
              "        buttonEl.style.display =\n",
              "          google.colab.kernel.accessAllowed ? 'block' : 'none';\n",
              "\n",
              "        async function convertToInteractive(key) {\n",
              "          const element = document.querySelector('#df-ee95b093-b452-40df-b137-9602569e9c03');\n",
              "          const dataTable =\n",
              "            await google.colab.kernel.invokeFunction('convertToInteractive',\n",
              "                                                     [key], {});\n",
              "          if (!dataTable) return;\n",
              "\n",
              "          const docLinkHtml = 'Like what you see? Visit the ' +\n",
              "            '<a target=\"_blank\" href=https://colab.research.google.com/notebooks/data_table.ipynb>data table notebook</a>'\n",
              "            + ' to learn more about interactive tables.';\n",
              "          element.innerHTML = '';\n",
              "          dataTable['output_type'] = 'display_data';\n",
              "          await google.colab.output.renderOutput(dataTable, element);\n",
              "          const docLink = document.createElement('div');\n",
              "          docLink.innerHTML = docLinkHtml;\n",
              "          element.appendChild(docLink);\n",
              "        }\n",
              "      </script>\n",
              "    </div>\n",
              "  </div>\n",
              "  "
            ]
          },
          "metadata": {},
          "execution_count": 35
        }
      ]
    },
    {
      "cell_type": "code",
      "source": [
        "dataset.describe()"
      ],
      "metadata": {
        "id": "mBH01pgMCqrs",
        "colab": {
          "base_uri": "https://localhost:8080/",
          "height": 361
        },
        "outputId": "b22791ca-70a9-423a-a5ad-1a71b8f241e5"
      },
      "execution_count": 37,
      "outputs": [
        {
          "output_type": "execute_result",
          "data": {
            "text/plain": [
              "         district_id    street_code           year          month  \\\n",
              "count  110655.000000  110655.000000  110655.000000  110655.000000   \n",
              "mean        4.813563  238669.737886    2015.371166       6.540089   \n",
              "std         2.988479  190946.503872       3.316378       3.476211   \n",
              "min        -1.000000      -1.000000    2010.000000       1.000000   \n",
              "25%         2.000000  112900.000000    2013.000000       3.500000   \n",
              "50%         4.000000  187207.000000    2015.000000       6.000000   \n",
              "75%         7.000000  312400.000000    2018.000000      10.000000   \n",
              "max        10.000000  701869.000000    2021.000000      12.000000   \n",
              "\n",
              "                 day           hour       n_deaths  n_wounded_mild  \\\n",
              "count  110655.000000  110655.000000  110655.000000   110655.000000   \n",
              "mean       15.759765      13.819302       0.002612        1.158964   \n",
              "std         8.748799       5.289014       0.052779        0.772022   \n",
              "min         1.000000       0.000000       0.000000        0.000000   \n",
              "25%         8.000000      10.000000       0.000000        1.000000   \n",
              "50%        16.000000      14.000000       0.000000        1.000000   \n",
              "75%        23.000000      18.000000       0.000000        1.000000   \n",
              "max        31.000000      23.000000       3.000000       25.000000   \n",
              "\n",
              "       n_wounded_severe      n_victims     n_vehicles      longitude  \\\n",
              "count     110655.000000  110655.000000  110655.000000  110655.000000   \n",
              "mean           0.023695       1.185271       1.915023       3.350592   \n",
              "std            0.162775       0.766082       0.729916      35.456251   \n",
              "min            0.000000       0.000000       0.000000      -1.488576   \n",
              "25%            0.000000       1.000000       2.000000       2.164096   \n",
              "50%            0.000000       1.000000       2.000000       3.350592   \n",
              "75%            0.000000       1.000000       2.000000       3.350592   \n",
              "max            4.000000      26.000000      18.000000    2189.000000   \n",
              "\n",
              "            latitude  \n",
              "count  110655.000000  \n",
              "mean       60.405022  \n",
              "std       621.294125  \n",
              "min         0.000009  \n",
              "25%        41.397542  \n",
              "50%        60.405022  \n",
              "75%        60.405022  \n",
              "max     41414.000000  "
            ],
            "text/html": [
              "\n",
              "  <div id=\"df-60b954fc-86ba-4275-b782-b723768cc3d7\">\n",
              "    <div class=\"colab-df-container\">\n",
              "      <div>\n",
              "<style scoped>\n",
              "    .dataframe tbody tr th:only-of-type {\n",
              "        vertical-align: middle;\n",
              "    }\n",
              "\n",
              "    .dataframe tbody tr th {\n",
              "        vertical-align: top;\n",
              "    }\n",
              "\n",
              "    .dataframe thead th {\n",
              "        text-align: right;\n",
              "    }\n",
              "</style>\n",
              "<table border=\"1\" class=\"dataframe\">\n",
              "  <thead>\n",
              "    <tr style=\"text-align: right;\">\n",
              "      <th></th>\n",
              "      <th>district_id</th>\n",
              "      <th>street_code</th>\n",
              "      <th>year</th>\n",
              "      <th>month</th>\n",
              "      <th>day</th>\n",
              "      <th>hour</th>\n",
              "      <th>n_deaths</th>\n",
              "      <th>n_wounded_mild</th>\n",
              "      <th>n_wounded_severe</th>\n",
              "      <th>n_victims</th>\n",
              "      <th>n_vehicles</th>\n",
              "      <th>longitude</th>\n",
              "      <th>latitude</th>\n",
              "    </tr>\n",
              "  </thead>\n",
              "  <tbody>\n",
              "    <tr>\n",
              "      <th>count</th>\n",
              "      <td>110655.000000</td>\n",
              "      <td>110655.000000</td>\n",
              "      <td>110655.000000</td>\n",
              "      <td>110655.000000</td>\n",
              "      <td>110655.000000</td>\n",
              "      <td>110655.000000</td>\n",
              "      <td>110655.000000</td>\n",
              "      <td>110655.000000</td>\n",
              "      <td>110655.000000</td>\n",
              "      <td>110655.000000</td>\n",
              "      <td>110655.000000</td>\n",
              "      <td>110655.000000</td>\n",
              "      <td>110655.000000</td>\n",
              "    </tr>\n",
              "    <tr>\n",
              "      <th>mean</th>\n",
              "      <td>4.813563</td>\n",
              "      <td>238669.737886</td>\n",
              "      <td>2015.371166</td>\n",
              "      <td>6.540089</td>\n",
              "      <td>15.759765</td>\n",
              "      <td>13.819302</td>\n",
              "      <td>0.002612</td>\n",
              "      <td>1.158964</td>\n",
              "      <td>0.023695</td>\n",
              "      <td>1.185271</td>\n",
              "      <td>1.915023</td>\n",
              "      <td>3.350592</td>\n",
              "      <td>60.405022</td>\n",
              "    </tr>\n",
              "    <tr>\n",
              "      <th>std</th>\n",
              "      <td>2.988479</td>\n",
              "      <td>190946.503872</td>\n",
              "      <td>3.316378</td>\n",
              "      <td>3.476211</td>\n",
              "      <td>8.748799</td>\n",
              "      <td>5.289014</td>\n",
              "      <td>0.052779</td>\n",
              "      <td>0.772022</td>\n",
              "      <td>0.162775</td>\n",
              "      <td>0.766082</td>\n",
              "      <td>0.729916</td>\n",
              "      <td>35.456251</td>\n",
              "      <td>621.294125</td>\n",
              "    </tr>\n",
              "    <tr>\n",
              "      <th>min</th>\n",
              "      <td>-1.000000</td>\n",
              "      <td>-1.000000</td>\n",
              "      <td>2010.000000</td>\n",
              "      <td>1.000000</td>\n",
              "      <td>1.000000</td>\n",
              "      <td>0.000000</td>\n",
              "      <td>0.000000</td>\n",
              "      <td>0.000000</td>\n",
              "      <td>0.000000</td>\n",
              "      <td>0.000000</td>\n",
              "      <td>0.000000</td>\n",
              "      <td>-1.488576</td>\n",
              "      <td>0.000009</td>\n",
              "    </tr>\n",
              "    <tr>\n",
              "      <th>25%</th>\n",
              "      <td>2.000000</td>\n",
              "      <td>112900.000000</td>\n",
              "      <td>2013.000000</td>\n",
              "      <td>3.500000</td>\n",
              "      <td>8.000000</td>\n",
              "      <td>10.000000</td>\n",
              "      <td>0.000000</td>\n",
              "      <td>1.000000</td>\n",
              "      <td>0.000000</td>\n",
              "      <td>1.000000</td>\n",
              "      <td>2.000000</td>\n",
              "      <td>2.164096</td>\n",
              "      <td>41.397542</td>\n",
              "    </tr>\n",
              "    <tr>\n",
              "      <th>50%</th>\n",
              "      <td>4.000000</td>\n",
              "      <td>187207.000000</td>\n",
              "      <td>2015.000000</td>\n",
              "      <td>6.000000</td>\n",
              "      <td>16.000000</td>\n",
              "      <td>14.000000</td>\n",
              "      <td>0.000000</td>\n",
              "      <td>1.000000</td>\n",
              "      <td>0.000000</td>\n",
              "      <td>1.000000</td>\n",
              "      <td>2.000000</td>\n",
              "      <td>3.350592</td>\n",
              "      <td>60.405022</td>\n",
              "    </tr>\n",
              "    <tr>\n",
              "      <th>75%</th>\n",
              "      <td>7.000000</td>\n",
              "      <td>312400.000000</td>\n",
              "      <td>2018.000000</td>\n",
              "      <td>10.000000</td>\n",
              "      <td>23.000000</td>\n",
              "      <td>18.000000</td>\n",
              "      <td>0.000000</td>\n",
              "      <td>1.000000</td>\n",
              "      <td>0.000000</td>\n",
              "      <td>1.000000</td>\n",
              "      <td>2.000000</td>\n",
              "      <td>3.350592</td>\n",
              "      <td>60.405022</td>\n",
              "    </tr>\n",
              "    <tr>\n",
              "      <th>max</th>\n",
              "      <td>10.000000</td>\n",
              "      <td>701869.000000</td>\n",
              "      <td>2021.000000</td>\n",
              "      <td>12.000000</td>\n",
              "      <td>31.000000</td>\n",
              "      <td>23.000000</td>\n",
              "      <td>3.000000</td>\n",
              "      <td>25.000000</td>\n",
              "      <td>4.000000</td>\n",
              "      <td>26.000000</td>\n",
              "      <td>18.000000</td>\n",
              "      <td>2189.000000</td>\n",
              "      <td>41414.000000</td>\n",
              "    </tr>\n",
              "  </tbody>\n",
              "</table>\n",
              "</div>\n",
              "      <button class=\"colab-df-convert\" onclick=\"convertToInteractive('df-60b954fc-86ba-4275-b782-b723768cc3d7')\"\n",
              "              title=\"Convert this dataframe to an interactive table.\"\n",
              "              style=\"display:none;\">\n",
              "        \n",
              "  <svg xmlns=\"http://www.w3.org/2000/svg\" height=\"24px\"viewBox=\"0 0 24 24\"\n",
              "       width=\"24px\">\n",
              "    <path d=\"M0 0h24v24H0V0z\" fill=\"none\"/>\n",
              "    <path d=\"M18.56 5.44l.94 2.06.94-2.06 2.06-.94-2.06-.94-.94-2.06-.94 2.06-2.06.94zm-11 1L8.5 8.5l.94-2.06 2.06-.94-2.06-.94L8.5 2.5l-.94 2.06-2.06.94zm10 10l.94 2.06.94-2.06 2.06-.94-2.06-.94-.94-2.06-.94 2.06-2.06.94z\"/><path d=\"M17.41 7.96l-1.37-1.37c-.4-.4-.92-.59-1.43-.59-.52 0-1.04.2-1.43.59L10.3 9.45l-7.72 7.72c-.78.78-.78 2.05 0 2.83L4 21.41c.39.39.9.59 1.41.59.51 0 1.02-.2 1.41-.59l7.78-7.78 2.81-2.81c.8-.78.8-2.07 0-2.86zM5.41 20L4 18.59l7.72-7.72 1.47 1.35L5.41 20z\"/>\n",
              "  </svg>\n",
              "      </button>\n",
              "      \n",
              "  <style>\n",
              "    .colab-df-container {\n",
              "      display:flex;\n",
              "      flex-wrap:wrap;\n",
              "      gap: 12px;\n",
              "    }\n",
              "\n",
              "    .colab-df-convert {\n",
              "      background-color: #E8F0FE;\n",
              "      border: none;\n",
              "      border-radius: 50%;\n",
              "      cursor: pointer;\n",
              "      display: none;\n",
              "      fill: #1967D2;\n",
              "      height: 32px;\n",
              "      padding: 0 0 0 0;\n",
              "      width: 32px;\n",
              "    }\n",
              "\n",
              "    .colab-df-convert:hover {\n",
              "      background-color: #E2EBFA;\n",
              "      box-shadow: 0px 1px 2px rgba(60, 64, 67, 0.3), 0px 1px 3px 1px rgba(60, 64, 67, 0.15);\n",
              "      fill: #174EA6;\n",
              "    }\n",
              "\n",
              "    [theme=dark] .colab-df-convert {\n",
              "      background-color: #3B4455;\n",
              "      fill: #D2E3FC;\n",
              "    }\n",
              "\n",
              "    [theme=dark] .colab-df-convert:hover {\n",
              "      background-color: #434B5C;\n",
              "      box-shadow: 0px 1px 3px 1px rgba(0, 0, 0, 0.15);\n",
              "      filter: drop-shadow(0px 1px 2px rgba(0, 0, 0, 0.3));\n",
              "      fill: #FFFFFF;\n",
              "    }\n",
              "  </style>\n",
              "\n",
              "      <script>\n",
              "        const buttonEl =\n",
              "          document.querySelector('#df-60b954fc-86ba-4275-b782-b723768cc3d7 button.colab-df-convert');\n",
              "        buttonEl.style.display =\n",
              "          google.colab.kernel.accessAllowed ? 'block' : 'none';\n",
              "\n",
              "        async function convertToInteractive(key) {\n",
              "          const element = document.querySelector('#df-60b954fc-86ba-4275-b782-b723768cc3d7');\n",
              "          const dataTable =\n",
              "            await google.colab.kernel.invokeFunction('convertToInteractive',\n",
              "                                                     [key], {});\n",
              "          if (!dataTable) return;\n",
              "\n",
              "          const docLinkHtml = 'Like what you see? Visit the ' +\n",
              "            '<a target=\"_blank\" href=https://colab.research.google.com/notebooks/data_table.ipynb>data table notebook</a>'\n",
              "            + ' to learn more about interactive tables.';\n",
              "          element.innerHTML = '';\n",
              "          dataTable['output_type'] = 'display_data';\n",
              "          await google.colab.output.renderOutput(dataTable, element);\n",
              "          const docLink = document.createElement('div');\n",
              "          docLink.innerHTML = docLinkHtml;\n",
              "          element.appendChild(docLink);\n",
              "        }\n",
              "      </script>\n",
              "    </div>\n",
              "  </div>\n",
              "  "
            ]
          },
          "metadata": {},
          "execution_count": 37
        }
      ]
    },
    {
      "cell_type": "code",
      "source": [
        "dataset.columns"
      ],
      "metadata": {
        "colab": {
          "base_uri": "https://localhost:8080/"
        },
        "id": "hHRjVsGr0gVD",
        "outputId": "630cf853-b810-4bc3-f93f-54b33e6144ce"
      },
      "execution_count": 39,
      "outputs": [
        {
          "output_type": "execute_result",
          "data": {
            "text/plain": [
              "Index(['district_id', 'district_name', 'neighborhood_id', 'neighborhood_name',\n",
              "       'street_code', 'street_name', 'postal_code', 'weekday_name', 'weekday',\n",
              "       'type_day', 'year', 'month', 'month_name', 'day', 'hour', 'cyrcadian',\n",
              "       'cause_incident', 'n_deaths', 'n_wounded_mild', 'n_wounded_severe',\n",
              "       'n_victims', 'n_vehicles', 'longitude', 'latitude'],\n",
              "      dtype='object')"
            ]
          },
          "metadata": {},
          "execution_count": 39
        }
      ]
    },
    {
      "cell_type": "code",
      "source": [
        "# Removing some unnecessary features from the dataset \n",
        "\n",
        "# Removing this features because it only consists of a constant value \n",
        "dataset[\"type_day\"].value_counts()\n",
        "\n",
        "# Removing features with continuous values \n",
        "\n",
        "dataset.drop(['district_id','neighborhood_id','type_day'],axis=1,inplace=True)"
      ],
      "metadata": {
        "id": "sJD8a3RaCquk"
      },
      "execution_count": 42,
      "outputs": []
    },
    {
      "cell_type": "code",
      "source": [
        "dataset.head()"
      ],
      "metadata": {
        "id": "_gNuyeNuCqyR",
        "colab": {
          "base_uri": "https://localhost:8080/",
          "height": 382
        },
        "outputId": "c32ac0d9-2d43-4580-d18e-fc9d26648506"
      },
      "execution_count": 43,
      "outputs": [
        {
          "output_type": "execute_result",
          "data": {
            "text/plain": [
              "  district_name           neighborhood_name  street_code          street_name  \\\n",
              "0    Desconegut                  Desconegut         -1.0           Desconegut   \n",
              "1    Sant Martí  el Camp de l'Arpa del Clot     134801.0               Freser   \n",
              "2    Sant Martí  el Camp de l'Arpa del Clot     161407.0            Indústria   \n",
              "3    Sant Martí  el Camp de l'Arpa del Clot     226400.0  Las Navas de Tolosa   \n",
              "4    Sant Martí  el Camp de l'Arpa del Clot      95506.0                Conca   \n",
              "\n",
              "  postal_code weekday_name weekday    year  month month_name  ...  hour  \\\n",
              "0  Desconegut      Dimarts      Dm  2015.0    7.0     Juliol  ...  12.0   \n",
              "1   0208 0208      Dimarts      Dm  2015.0   10.0    Octubre  ...  19.0   \n",
              "2   0336 0336     Dissabte      Ds  2015.0    2.0     Febrer  ...  21.0   \n",
              "3   0343 0343    Divendres      Dv  2015.0    6.0       Juny  ...   9.0   \n",
              "4   0032 0034    Divendres      Dv  2015.0    7.0     Juliol  ...  20.0   \n",
              "\n",
              "   cyrcadian                  cause_incident n_deaths  n_wounded_mild  \\\n",
              "0       Matí        No és causa del  vianant      0.0             2.0   \n",
              "1      Tarda  Desobeir el senyal del semàfor      0.0             1.0   \n",
              "2      Tarda        No és causa del  vianant      0.0             1.0   \n",
              "3       Matí        No és causa del  vianant      0.0             1.0   \n",
              "4      Tarda        No és causa del  vianant      0.0             2.0   \n",
              "\n",
              "   n_wounded_severe  n_victims  n_vehicles  longitude   latitude  \n",
              "0               0.0        2.0         2.0   3.350592  60.405022  \n",
              "1               0.0        1.0         1.0   3.350592  60.405022  \n",
              "2               0.0        1.0         1.0   3.350592  60.405022  \n",
              "3               0.0        1.0         2.0   3.350592  60.405022  \n",
              "4               0.0        2.0         1.0   3.350592  60.405022  \n",
              "\n",
              "[5 rows x 21 columns]"
            ],
            "text/html": [
              "\n",
              "  <div id=\"df-674321fa-89cc-4a80-a11e-cbaa3b568d19\">\n",
              "    <div class=\"colab-df-container\">\n",
              "      <div>\n",
              "<style scoped>\n",
              "    .dataframe tbody tr th:only-of-type {\n",
              "        vertical-align: middle;\n",
              "    }\n",
              "\n",
              "    .dataframe tbody tr th {\n",
              "        vertical-align: top;\n",
              "    }\n",
              "\n",
              "    .dataframe thead th {\n",
              "        text-align: right;\n",
              "    }\n",
              "</style>\n",
              "<table border=\"1\" class=\"dataframe\">\n",
              "  <thead>\n",
              "    <tr style=\"text-align: right;\">\n",
              "      <th></th>\n",
              "      <th>district_name</th>\n",
              "      <th>neighborhood_name</th>\n",
              "      <th>street_code</th>\n",
              "      <th>street_name</th>\n",
              "      <th>postal_code</th>\n",
              "      <th>weekday_name</th>\n",
              "      <th>weekday</th>\n",
              "      <th>year</th>\n",
              "      <th>month</th>\n",
              "      <th>month_name</th>\n",
              "      <th>...</th>\n",
              "      <th>hour</th>\n",
              "      <th>cyrcadian</th>\n",
              "      <th>cause_incident</th>\n",
              "      <th>n_deaths</th>\n",
              "      <th>n_wounded_mild</th>\n",
              "      <th>n_wounded_severe</th>\n",
              "      <th>n_victims</th>\n",
              "      <th>n_vehicles</th>\n",
              "      <th>longitude</th>\n",
              "      <th>latitude</th>\n",
              "    </tr>\n",
              "  </thead>\n",
              "  <tbody>\n",
              "    <tr>\n",
              "      <th>0</th>\n",
              "      <td>Desconegut</td>\n",
              "      <td>Desconegut</td>\n",
              "      <td>-1.0</td>\n",
              "      <td>Desconegut</td>\n",
              "      <td>Desconegut</td>\n",
              "      <td>Dimarts</td>\n",
              "      <td>Dm</td>\n",
              "      <td>2015.0</td>\n",
              "      <td>7.0</td>\n",
              "      <td>Juliol</td>\n",
              "      <td>...</td>\n",
              "      <td>12.0</td>\n",
              "      <td>Matí</td>\n",
              "      <td>No és causa del  vianant</td>\n",
              "      <td>0.0</td>\n",
              "      <td>2.0</td>\n",
              "      <td>0.0</td>\n",
              "      <td>2.0</td>\n",
              "      <td>2.0</td>\n",
              "      <td>3.350592</td>\n",
              "      <td>60.405022</td>\n",
              "    </tr>\n",
              "    <tr>\n",
              "      <th>1</th>\n",
              "      <td>Sant Martí</td>\n",
              "      <td>el Camp de l'Arpa del Clot</td>\n",
              "      <td>134801.0</td>\n",
              "      <td>Freser</td>\n",
              "      <td>0208 0208</td>\n",
              "      <td>Dimarts</td>\n",
              "      <td>Dm</td>\n",
              "      <td>2015.0</td>\n",
              "      <td>10.0</td>\n",
              "      <td>Octubre</td>\n",
              "      <td>...</td>\n",
              "      <td>19.0</td>\n",
              "      <td>Tarda</td>\n",
              "      <td>Desobeir el senyal del semàfor</td>\n",
              "      <td>0.0</td>\n",
              "      <td>1.0</td>\n",
              "      <td>0.0</td>\n",
              "      <td>1.0</td>\n",
              "      <td>1.0</td>\n",
              "      <td>3.350592</td>\n",
              "      <td>60.405022</td>\n",
              "    </tr>\n",
              "    <tr>\n",
              "      <th>2</th>\n",
              "      <td>Sant Martí</td>\n",
              "      <td>el Camp de l'Arpa del Clot</td>\n",
              "      <td>161407.0</td>\n",
              "      <td>Indústria</td>\n",
              "      <td>0336 0336</td>\n",
              "      <td>Dissabte</td>\n",
              "      <td>Ds</td>\n",
              "      <td>2015.0</td>\n",
              "      <td>2.0</td>\n",
              "      <td>Febrer</td>\n",
              "      <td>...</td>\n",
              "      <td>21.0</td>\n",
              "      <td>Tarda</td>\n",
              "      <td>No és causa del  vianant</td>\n",
              "      <td>0.0</td>\n",
              "      <td>1.0</td>\n",
              "      <td>0.0</td>\n",
              "      <td>1.0</td>\n",
              "      <td>1.0</td>\n",
              "      <td>3.350592</td>\n",
              "      <td>60.405022</td>\n",
              "    </tr>\n",
              "    <tr>\n",
              "      <th>3</th>\n",
              "      <td>Sant Martí</td>\n",
              "      <td>el Camp de l'Arpa del Clot</td>\n",
              "      <td>226400.0</td>\n",
              "      <td>Las Navas de Tolosa</td>\n",
              "      <td>0343 0343</td>\n",
              "      <td>Divendres</td>\n",
              "      <td>Dv</td>\n",
              "      <td>2015.0</td>\n",
              "      <td>6.0</td>\n",
              "      <td>Juny</td>\n",
              "      <td>...</td>\n",
              "      <td>9.0</td>\n",
              "      <td>Matí</td>\n",
              "      <td>No és causa del  vianant</td>\n",
              "      <td>0.0</td>\n",
              "      <td>1.0</td>\n",
              "      <td>0.0</td>\n",
              "      <td>1.0</td>\n",
              "      <td>2.0</td>\n",
              "      <td>3.350592</td>\n",
              "      <td>60.405022</td>\n",
              "    </tr>\n",
              "    <tr>\n",
              "      <th>4</th>\n",
              "      <td>Sant Martí</td>\n",
              "      <td>el Camp de l'Arpa del Clot</td>\n",
              "      <td>95506.0</td>\n",
              "      <td>Conca</td>\n",
              "      <td>0032 0034</td>\n",
              "      <td>Divendres</td>\n",
              "      <td>Dv</td>\n",
              "      <td>2015.0</td>\n",
              "      <td>7.0</td>\n",
              "      <td>Juliol</td>\n",
              "      <td>...</td>\n",
              "      <td>20.0</td>\n",
              "      <td>Tarda</td>\n",
              "      <td>No és causa del  vianant</td>\n",
              "      <td>0.0</td>\n",
              "      <td>2.0</td>\n",
              "      <td>0.0</td>\n",
              "      <td>2.0</td>\n",
              "      <td>1.0</td>\n",
              "      <td>3.350592</td>\n",
              "      <td>60.405022</td>\n",
              "    </tr>\n",
              "  </tbody>\n",
              "</table>\n",
              "<p>5 rows × 21 columns</p>\n",
              "</div>\n",
              "      <button class=\"colab-df-convert\" onclick=\"convertToInteractive('df-674321fa-89cc-4a80-a11e-cbaa3b568d19')\"\n",
              "              title=\"Convert this dataframe to an interactive table.\"\n",
              "              style=\"display:none;\">\n",
              "        \n",
              "  <svg xmlns=\"http://www.w3.org/2000/svg\" height=\"24px\"viewBox=\"0 0 24 24\"\n",
              "       width=\"24px\">\n",
              "    <path d=\"M0 0h24v24H0V0z\" fill=\"none\"/>\n",
              "    <path d=\"M18.56 5.44l.94 2.06.94-2.06 2.06-.94-2.06-.94-.94-2.06-.94 2.06-2.06.94zm-11 1L8.5 8.5l.94-2.06 2.06-.94-2.06-.94L8.5 2.5l-.94 2.06-2.06.94zm10 10l.94 2.06.94-2.06 2.06-.94-2.06-.94-.94-2.06-.94 2.06-2.06.94z\"/><path d=\"M17.41 7.96l-1.37-1.37c-.4-.4-.92-.59-1.43-.59-.52 0-1.04.2-1.43.59L10.3 9.45l-7.72 7.72c-.78.78-.78 2.05 0 2.83L4 21.41c.39.39.9.59 1.41.59.51 0 1.02-.2 1.41-.59l7.78-7.78 2.81-2.81c.8-.78.8-2.07 0-2.86zM5.41 20L4 18.59l7.72-7.72 1.47 1.35L5.41 20z\"/>\n",
              "  </svg>\n",
              "      </button>\n",
              "      \n",
              "  <style>\n",
              "    .colab-df-container {\n",
              "      display:flex;\n",
              "      flex-wrap:wrap;\n",
              "      gap: 12px;\n",
              "    }\n",
              "\n",
              "    .colab-df-convert {\n",
              "      background-color: #E8F0FE;\n",
              "      border: none;\n",
              "      border-radius: 50%;\n",
              "      cursor: pointer;\n",
              "      display: none;\n",
              "      fill: #1967D2;\n",
              "      height: 32px;\n",
              "      padding: 0 0 0 0;\n",
              "      width: 32px;\n",
              "    }\n",
              "\n",
              "    .colab-df-convert:hover {\n",
              "      background-color: #E2EBFA;\n",
              "      box-shadow: 0px 1px 2px rgba(60, 64, 67, 0.3), 0px 1px 3px 1px rgba(60, 64, 67, 0.15);\n",
              "      fill: #174EA6;\n",
              "    }\n",
              "\n",
              "    [theme=dark] .colab-df-convert {\n",
              "      background-color: #3B4455;\n",
              "      fill: #D2E3FC;\n",
              "    }\n",
              "\n",
              "    [theme=dark] .colab-df-convert:hover {\n",
              "      background-color: #434B5C;\n",
              "      box-shadow: 0px 1px 3px 1px rgba(0, 0, 0, 0.15);\n",
              "      filter: drop-shadow(0px 1px 2px rgba(0, 0, 0, 0.3));\n",
              "      fill: #FFFFFF;\n",
              "    }\n",
              "  </style>\n",
              "\n",
              "      <script>\n",
              "        const buttonEl =\n",
              "          document.querySelector('#df-674321fa-89cc-4a80-a11e-cbaa3b568d19 button.colab-df-convert');\n",
              "        buttonEl.style.display =\n",
              "          google.colab.kernel.accessAllowed ? 'block' : 'none';\n",
              "\n",
              "        async function convertToInteractive(key) {\n",
              "          const element = document.querySelector('#df-674321fa-89cc-4a80-a11e-cbaa3b568d19');\n",
              "          const dataTable =\n",
              "            await google.colab.kernel.invokeFunction('convertToInteractive',\n",
              "                                                     [key], {});\n",
              "          if (!dataTable) return;\n",
              "\n",
              "          const docLinkHtml = 'Like what you see? Visit the ' +\n",
              "            '<a target=\"_blank\" href=https://colab.research.google.com/notebooks/data_table.ipynb>data table notebook</a>'\n",
              "            + ' to learn more about interactive tables.';\n",
              "          element.innerHTML = '';\n",
              "          dataTable['output_type'] = 'display_data';\n",
              "          await google.colab.output.renderOutput(dataTable, element);\n",
              "          const docLink = document.createElement('div');\n",
              "          docLink.innerHTML = docLinkHtml;\n",
              "          element.appendChild(docLink);\n",
              "        }\n",
              "      </script>\n",
              "    </div>\n",
              "  </div>\n",
              "  "
            ]
          },
          "metadata": {},
          "execution_count": 43
        }
      ]
    },
    {
      "cell_type": "code",
      "source": [
        "plt.scatter(dataset[\"latitude\"],dataset[\"longitude\"])\n",
        "sns.set(rc= {'figure.figsize':(2,2)})"
      ],
      "metadata": {
        "colab": {
          "base_uri": "https://localhost:8080/",
          "height": 268
        },
        "id": "2Kydl8WS1T3R",
        "outputId": "3b6ac0e7-bee9-4e56-c1a1-c5fa6a97bae8"
      },
      "execution_count": 50,
      "outputs": [
        {
          "output_type": "display_data",
          "data": {
            "text/plain": [
              "<Figure size 144x288 with 1 Axes>"
            ],
            "image/png": "[encoded data removed]"
          },
          "metadata": {}
        }
      ]
    },
    {
      "cell_type": "code",
      "source": [
        ""
      ],
      "metadata": {
        "id": "vPJYw5YC1q5r"
      },
      "execution_count": null,
      "outputs": []
    }
  ]
}